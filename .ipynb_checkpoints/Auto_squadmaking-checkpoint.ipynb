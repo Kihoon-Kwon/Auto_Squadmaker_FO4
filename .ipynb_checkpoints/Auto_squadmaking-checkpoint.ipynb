{
 "cells": [
  {
   "cell_type": "markdown",
   "id": "aefc8c35",
   "metadata": {},
   "source": [
    "# 데일리차트 접속 후 인기 포메이션, 인기 팀 컬러 조사하기"
   ]
  },
  {
   "cell_type": "code",
   "execution_count": 1,
   "id": "59cf54be",
   "metadata": {},
   "outputs": [
    {
     "name": "stderr",
     "output_type": "stream",
     "text": [
      "C:\\Users\\user\\AppData\\Local\\Temp/ipykernel_14804/2310303632.py:14: DeprecationWarning: executable_path has been deprecated, please pass in a Service object\n",
      "  driver = webdriver.Chrome(chrome_path)\n"
     ]
    }
   ],
   "source": [
    "from selenium import webdriver\n",
    "from selenium.webdriver.common.by import By\n",
    "from selenium.webdriver.common.action_chains import ActionChains\n",
    "import chromedriver_autoinstaller\n",
    "import sys\n",
    "import os\n",
    "import re\n",
    "import requests\n",
    "import pandas as pd\n",
    "import numpy as np\n",
    "import time\n",
    "\n",
    "chrome_path = chromedriver_autoinstaller.install()\n",
    "driver = webdriver.Chrome(chrome_path)\n",
    "url = 'https://fifaonline4.nexon.com/datacenter/dailysquad'\n",
    "driver.get(url)\n",
    "response = requests.get(url)\n",
    "html = response.text"
   ]
  },
  {
   "cell_type": "code",
   "execution_count": 2,
   "id": "983a8afc",
   "metadata": {},
   "outputs": [
    {
     "data": {
      "text/plain": [
       "10"
      ]
     },
     "execution_count": 2,
     "metadata": {},
     "output_type": "execute_result"
    }
   ],
   "source": [
    "contents = driver.find_elements(By.CSS_SELECTOR,'#formationSwiper > div > div > div > div')\n",
    "len(contents)"
   ]
  },
  {
   "cell_type": "code",
   "execution_count": 3,
   "id": "fe84ad5f",
   "metadata": {},
   "outputs": [
    {
     "data": {
      "text/plain": [
       "'4-2-3-1'"
      ]
     },
     "execution_count": 3,
     "metadata": {},
     "output_type": "execute_result"
    }
   ],
   "source": [
    "contents[0].find_element(By.CSS_SELECTOR,'div.txt').text # 잘 나오는 것 확인"
   ]
  },
  {
   "cell_type": "code",
   "execution_count": 4,
   "id": "cac8bd06",
   "metadata": {},
   "outputs": [
    {
     "name": "stdout",
     "output_type": "stream",
     "text": [
      "['4-2-3-1', '4-2-2-1-1', '5-2-3', '4-2-2-2', '4-2-1-3', '5-2-1-2']\n"
     ]
    }
   ],
   "source": [
    "formation = []\n",
    "for content in contents:\n",
    "    formae = content.find_element(By.CSS_SELECTOR,'div.txt').text\n",
    "    formation.append(formae)\n",
    "    \n",
    "formation_top6 = formation[:6] # 상위 6개 포메이션 선정\n",
    "print(formation_top6)"
   ]
  },
  {
   "cell_type": "code",
   "execution_count": 5,
   "id": "403946ec",
   "metadata": {},
   "outputs": [
    {
     "name": "stdout",
     "output_type": "stream",
     "text": [
      "10\n"
     ]
    }
   ],
   "source": [
    "teams = driver.find_elements(By.CSS_SELECTOR,'#divTeamColorInfo > div')\n",
    "print(len(teams))"
   ]
  },
  {
   "cell_type": "code",
   "execution_count": 6,
   "id": "5863f8b6",
   "metadata": {},
   "outputs": [
    {
     "name": "stdout",
     "output_type": "stream",
     "text": [
      "대한민국\n"
     ]
    }
   ],
   "source": [
    "print(teams[0].find_element(By.CSS_SELECTOR,'div.txt').text)"
   ]
  },
  {
   "cell_type": "code",
   "execution_count": 7,
   "id": "d7711daf",
   "metadata": {},
   "outputs": [
    {
     "name": "stdout",
     "output_type": "stream",
     "text": [
      "['대한민국', '첼시', '레알 마드리드', '바이에른 뮌헨']\n"
     ]
    }
   ],
   "source": [
    "team_color=[]\n",
    "\n",
    "for team in teams:\n",
    "    tc = team.find_element(By.CSS_SELECTOR,'div.txt').text\n",
    "    team_color.append(tc)\n",
    "    \n",
    "team_color_top4 = team_color[:4] # 상위 4개 팀컬러 선정\n",
    "print(team_color_top4)"
   ]
  },
  {
   "cell_type": "code",
   "execution_count": 8,
   "id": "9e31c0e7",
   "metadata": {},
   "outputs": [],
   "source": [
    "driver.quit()"
   ]
  },
  {
   "cell_type": "code",
   "execution_count": 9,
   "id": "35f5b29c",
   "metadata": {},
   "outputs": [],
   "source": [
    "PlayersData = pd.read_csv(\"./players_data/players_data.csv\",encoding='cp949') # 추출한 선수 명단 데이터를 불러온다."
   ]
  },
  {
   "cell_type": "code",
   "execution_count": 10,
   "id": "b43f2da7",
   "metadata": {},
   "outputs": [
    {
     "data": {
      "text/html": [
       "<div>\n",
       "<style scoped>\n",
       "    .dataframe tbody tr th:only-of-type {\n",
       "        vertical-align: middle;\n",
       "    }\n",
       "\n",
       "    .dataframe tbody tr th {\n",
       "        vertical-align: top;\n",
       "    }\n",
       "\n",
       "    .dataframe thead th {\n",
       "        text-align: right;\n",
       "    }\n",
       "</style>\n",
       "<table border=\"1\" class=\"dataframe\">\n",
       "  <thead>\n",
       "    <tr style=\"text-align: right;\">\n",
       "      <th></th>\n",
       "      <th>포지션</th>\n",
       "      <th>이름</th>\n",
       "      <th>클래스</th>\n",
       "    </tr>\n",
       "  </thead>\n",
       "  <tbody>\n",
       "    <tr>\n",
       "      <th>0</th>\n",
       "      <td>ST</td>\n",
       "      <td>박주영</td>\n",
       "      <td>2012KH</td>\n",
       "    </tr>\n",
       "    <tr>\n",
       "      <th>1</th>\n",
       "      <td>ST</td>\n",
       "      <td>R. 레반도프스키</td>\n",
       "      <td>22TOTY</td>\n",
       "    </tr>\n",
       "    <tr>\n",
       "      <th>2</th>\n",
       "      <td>ST</td>\n",
       "      <td>크리스티아누 호날두</td>\n",
       "      <td>22TOTS</td>\n",
       "    </tr>\n",
       "    <tr>\n",
       "      <th>3</th>\n",
       "      <td>ST</td>\n",
       "      <td>호나우두</td>\n",
       "      <td>MC</td>\n",
       "    </tr>\n",
       "    <tr>\n",
       "      <th>4</th>\n",
       "      <td>ST</td>\n",
       "      <td>크리스티아누 호날두</td>\n",
       "      <td>21TOTY</td>\n",
       "    </tr>\n",
       "    <tr>\n",
       "      <th>...</th>\n",
       "      <td>...</td>\n",
       "      <td>...</td>\n",
       "      <td>...</td>\n",
       "    </tr>\n",
       "    <tr>\n",
       "      <th>235</th>\n",
       "      <td>GK</td>\n",
       "      <td>에우통 레이치</td>\n",
       "      <td>21UCL</td>\n",
       "    </tr>\n",
       "    <tr>\n",
       "      <th>236</th>\n",
       "      <td>GK</td>\n",
       "      <td>닉 포프</td>\n",
       "      <td>LIVE</td>\n",
       "    </tr>\n",
       "    <tr>\n",
       "      <th>237</th>\n",
       "      <td>GK</td>\n",
       "      <td>조 하트</td>\n",
       "      <td>TC</td>\n",
       "    </tr>\n",
       "    <tr>\n",
       "      <th>238</th>\n",
       "      <td>GK</td>\n",
       "      <td>보이치에흐 슈체스니</td>\n",
       "      <td>EBS</td>\n",
       "    </tr>\n",
       "    <tr>\n",
       "      <th>239</th>\n",
       "      <td>GK</td>\n",
       "      <td>사미르 한다노비치</td>\n",
       "      <td>LIVE</td>\n",
       "    </tr>\n",
       "  </tbody>\n",
       "</table>\n",
       "<p>240 rows × 3 columns</p>\n",
       "</div>"
      ],
      "text/plain": [
       "    포지션          이름     클래스\n",
       "0    ST         박주영  2012KH\n",
       "1    ST   R. 레반도프스키  22TOTY\n",
       "2    ST  크리스티아누 호날두  22TOTS\n",
       "3    ST        호나우두      MC\n",
       "4    ST  크리스티아누 호날두  21TOTY\n",
       "..   ..         ...     ...\n",
       "235  GK     에우통 레이치   21UCL\n",
       "236  GK        닉 포프    LIVE\n",
       "237  GK        조 하트      TC\n",
       "238  GK  보이치에흐 슈체스니     EBS\n",
       "239  GK   사미르 한다노비치    LIVE\n",
       "\n",
       "[240 rows x 3 columns]"
      ]
     },
     "execution_count": 10,
     "metadata": {},
     "output_type": "execute_result"
    }
   ],
   "source": [
    "PlayersData"
   ]
  },
  {
   "cell_type": "code",
   "execution_count": 39,
   "id": "1ef9c843",
   "metadata": {},
   "outputs": [
    {
     "data": {
      "text/html": [
       "<div>\n",
       "<style scoped>\n",
       "    .dataframe tbody tr th:only-of-type {\n",
       "        vertical-align: middle;\n",
       "    }\n",
       "\n",
       "    .dataframe tbody tr th {\n",
       "        vertical-align: top;\n",
       "    }\n",
       "\n",
       "    .dataframe thead th {\n",
       "        text-align: right;\n",
       "    }\n",
       "</style>\n",
       "<table border=\"1\" class=\"dataframe\">\n",
       "  <thead>\n",
       "    <tr style=\"text-align: right;\">\n",
       "      <th></th>\n",
       "      <th>포지션</th>\n",
       "      <th>이름</th>\n",
       "      <th>클래스</th>\n",
       "    </tr>\n",
       "  </thead>\n",
       "  <tbody>\n",
       "    <tr>\n",
       "      <th>144</th>\n",
       "      <td>CB</td>\n",
       "      <td>차두리</td>\n",
       "      <td>TKL</td>\n",
       "    </tr>\n",
       "    <tr>\n",
       "      <th>145</th>\n",
       "      <td>CB</td>\n",
       "      <td>안토니오 뤼디거</td>\n",
       "      <td>20UCL</td>\n",
       "    </tr>\n",
       "    <tr>\n",
       "      <th>146</th>\n",
       "      <td>CB</td>\n",
       "      <td>뱅자맹 파바르</td>\n",
       "      <td>21UCL</td>\n",
       "    </tr>\n",
       "    <tr>\n",
       "      <th>147</th>\n",
       "      <td>CB</td>\n",
       "      <td>뤼카 에르난데스</td>\n",
       "      <td>21UCL</td>\n",
       "    </tr>\n",
       "    <tr>\n",
       "      <th>148</th>\n",
       "      <td>CB</td>\n",
       "      <td>라파엘 바란</td>\n",
       "      <td>BOE21</td>\n",
       "    </tr>\n",
       "    <tr>\n",
       "      <th>149</th>\n",
       "      <td>CB</td>\n",
       "      <td>에데르 밀리탕</td>\n",
       "      <td>21UCL</td>\n",
       "    </tr>\n",
       "    <tr>\n",
       "      <th>150</th>\n",
       "      <td>CB</td>\n",
       "      <td>홍정호</td>\n",
       "      <td>21KLB</td>\n",
       "    </tr>\n",
       "    <tr>\n",
       "      <th>151</th>\n",
       "      <td>CB</td>\n",
       "      <td>윤석영</td>\n",
       "      <td>2012KH</td>\n",
       "    </tr>\n",
       "    <tr>\n",
       "      <th>152</th>\n",
       "      <td>CB</td>\n",
       "      <td>안토니오 뤼디거</td>\n",
       "      <td>22TOTN</td>\n",
       "    </tr>\n",
       "    <tr>\n",
       "      <th>153</th>\n",
       "      <td>CB</td>\n",
       "      <td>김민재</td>\n",
       "      <td>TKL</td>\n",
       "    </tr>\n",
       "  </tbody>\n",
       "</table>\n",
       "</div>"
      ],
      "text/plain": [
       "    포지션        이름     클래스\n",
       "144  CB       차두리     TKL\n",
       "145  CB  안토니오 뤼디거   20UCL\n",
       "146  CB   뱅자맹 파바르   21UCL\n",
       "147  CB  뤼카 에르난데스   21UCL\n",
       "148  CB    라파엘 바란   BOE21\n",
       "149  CB   에데르 밀리탕   21UCL\n",
       "150  CB       홍정호   21KLB\n",
       "151  CB       윤석영  2012KH\n",
       "152  CB  안토니오 뤼디거  22TOTN\n",
       "153  CB       김민재     TKL"
      ]
     },
     "execution_count": 39,
     "metadata": {},
     "output_type": "execute_result"
    }
   ],
   "source": [
    "PlayersData[PlayersData['포지션']=='CB'][:10]"
   ]
  },
  {
   "cell_type": "code",
   "execution_count": 40,
   "id": "74f3b90f",
   "metadata": {},
   "outputs": [
    {
     "data": {
      "text/html": [
       "<div>\n",
       "<style scoped>\n",
       "    .dataframe tbody tr th:only-of-type {\n",
       "        vertical-align: middle;\n",
       "    }\n",
       "\n",
       "    .dataframe tbody tr th {\n",
       "        vertical-align: top;\n",
       "    }\n",
       "\n",
       "    .dataframe thead th {\n",
       "        text-align: right;\n",
       "    }\n",
       "</style>\n",
       "<table border=\"1\" class=\"dataframe\">\n",
       "  <thead>\n",
       "    <tr style=\"text-align: right;\">\n",
       "      <th></th>\n",
       "      <th>포지션</th>\n",
       "      <th>이름</th>\n",
       "      <th>클래스</th>\n",
       "    </tr>\n",
       "  </thead>\n",
       "  <tbody>\n",
       "    <tr>\n",
       "      <th>0</th>\n",
       "      <td>ST</td>\n",
       "      <td>박주영</td>\n",
       "      <td>2012KH</td>\n",
       "    </tr>\n",
       "    <tr>\n",
       "      <th>1</th>\n",
       "      <td>ST</td>\n",
       "      <td>R. 레반도프스키</td>\n",
       "      <td>22TOTY</td>\n",
       "    </tr>\n",
       "    <tr>\n",
       "      <th>2</th>\n",
       "      <td>ST</td>\n",
       "      <td>크리스티아누 호날두</td>\n",
       "      <td>22TOTS</td>\n",
       "    </tr>\n",
       "    <tr>\n",
       "      <th>3</th>\n",
       "      <td>ST</td>\n",
       "      <td>호나우두</td>\n",
       "      <td>MC</td>\n",
       "    </tr>\n",
       "    <tr>\n",
       "      <th>4</th>\n",
       "      <td>ST</td>\n",
       "      <td>크리스티아누 호날두</td>\n",
       "      <td>21TOTY</td>\n",
       "    </tr>\n",
       "    <tr>\n",
       "      <th>5</th>\n",
       "      <td>ST</td>\n",
       "      <td>손흥민</td>\n",
       "      <td>22TOTY</td>\n",
       "    </tr>\n",
       "    <tr>\n",
       "      <th>6</th>\n",
       "      <td>ST</td>\n",
       "      <td>R. 레반도프스키</td>\n",
       "      <td>21TOTY</td>\n",
       "    </tr>\n",
       "    <tr>\n",
       "      <th>7</th>\n",
       "      <td>ST</td>\n",
       "      <td>크리스티아누 호날두</td>\n",
       "      <td>MC</td>\n",
       "    </tr>\n",
       "    <tr>\n",
       "      <th>8</th>\n",
       "      <td>ST</td>\n",
       "      <td>지동원</td>\n",
       "      <td>2012KH</td>\n",
       "    </tr>\n",
       "    <tr>\n",
       "      <th>9</th>\n",
       "      <td>ST</td>\n",
       "      <td>사뮈엘 에토</td>\n",
       "      <td>FA</td>\n",
       "    </tr>\n",
       "  </tbody>\n",
       "</table>\n",
       "</div>"
      ],
      "text/plain": [
       "  포지션          이름     클래스\n",
       "0  ST         박주영  2012KH\n",
       "1  ST   R. 레반도프스키  22TOTY\n",
       "2  ST  크리스티아누 호날두  22TOTS\n",
       "3  ST        호나우두      MC\n",
       "4  ST  크리스티아누 호날두  21TOTY\n",
       "5  ST         손흥민  22TOTY\n",
       "6  ST   R. 레반도프스키  21TOTY\n",
       "7  ST  크리스티아누 호날두      MC\n",
       "8  ST         지동원  2012KH\n",
       "9  ST      사뮈엘 에토      FA"
      ]
     },
     "execution_count": 40,
     "metadata": {},
     "output_type": "execute_result"
    }
   ],
   "source": []
  },
  {
   "cell_type": "markdown",
   "id": "5381c7a1",
   "metadata": {},
   "source": [
    "# 스쿼드메이커를 이용한 자동 스쿼드 제작 시스템\n",
    "\n",
    "## 프로세스\n",
    "\n",
    "1. 인기 포메이션 6개 중 하나를 선정한다.\n",
    "2. 선정한 상위 4개의 팀 컬러 중 하나를 팀 컬러 검색창에 입력\n",
    "3. 전제조건\n",
    "\n",
    "    1) 포지션별로 선수 입력 시 PlayersData에 있는 선수들을 먼저 입력한다. 단 포지션별로 반영할 데이터의 범위는 자체적으로 선정한다.\n",
    "        - ex) 스쿼드메이커에서 LS,RS,ST,LF,RF,CF 자리는 PlayersData의 포지션이 ST,CF인 선수들 중에서 우선적으로 검색할 예정\n",
    "        - 검색을 모두 완료하였음에도 없는 경우에는 공란으로 우선 남겨둔다.\n",
    "    \n",
    "    2) 선수의 포지션은 선수 카드에 주어진 포지션이 아니라 유저들이 사용한 포지션을 따른다.\n",
    "   \n",
    "        - ex) TKL 차두리의 원래 포지션은 RB이지만, 유저들은 CB으로 주로 사용하므로 TKL 차두리는 CB로 분류, PlayersData에도 반영되어 있다\n",
    "        \n",
    "    3) 스쿼드 작성 순서는 공격진부터 골키퍼 순으로 작성\n",
    "    \n",
    "        - 일반적으로 공격진부터 스쿼드를 짜기 때문이다.\n",
    "    \n",
    "    \n",
    "4. PlayersData에 해당 선수가 존재하는 경우, 해당 선수의 이름과 시즌이 일치하는지 확인한 후 스쿼드에 포함\n",
    "\n",
    "    - 이름 검색 시 여러 선수가 검색되는 경우도 있으므로(페드로 검색 시 페드로 포로도 함께 검색되는 것처럼) 이름, 시즌 전부 확인\n",
    "    - 포지션별 인기 순으로 정렬된 것이므로 PlayersData 위에서부터 선수 이름 검색해서, 해당 선수가 존재하면 포함하면 된다.\n",
    "    \n",
    "5. 스쿼드 완료 후 급여가 초과된 경우 골키퍼, 측면 수비수 2명 중 급여가 높은 순으로 선수를 삭제한다.\n",
    "\n",
    "    - 삭제 후 다시 급여가 남게 되면, 남은 급여에 맞춰서 다른 선수를 포함한다."
   ]
  },
  {
   "cell_type": "code",
   "execution_count": 52,
   "id": "883137c9",
   "metadata": {},
   "outputs": [
    {
     "name": "stderr",
     "output_type": "stream",
     "text": [
      "C:\\Users\\user\\AppData\\Local\\Temp/ipykernel_14804/304761245.py:2: DeprecationWarning: executable_path has been deprecated, please pass in a Service object\n",
      "  driver = webdriver.Chrome(chrome_path)\n"
     ]
    }
   ],
   "source": [
    "chrome_path = chromedriver_autoinstaller.install()\n",
    "driver = webdriver.Chrome(chrome_path) \n",
    "url = 'https://fifaonline4.nexon.com/datacenter/squadmaker'\n",
    "driver.get(url)"
   ]
  },
  {
   "cell_type": "code",
   "execution_count": 58,
   "id": "f951b26a",
   "metadata": {},
   "outputs": [],
   "source": [
    "squad = driver.find_element(By.CSS_SELECTOR,'#formationPlayer11')\n",
    "squad.click()\n",
    "time.sleep(2)\n",
    "wrap_teamcolor = '#squadSearchform1 > div > div.search_form > div > div.search_input_detail > div.search_input_detail_teamcolor'\n",
    "search_teamcolor = driver.find_element(By.CSS_SELECTOR, wrap_teamcolor+'>div.wrap_teamcolor')\n",
    "\n",
    "club_teamcolor = ' div > ul > li:nth-child(2)'\n",
    "search_teamcolor.click()\n",
    "time.sleep(2)\n",
    "club_searching = search_teamcolor.find_element(By.CSS_SELECTOR,club_teamcolor) # 클럽 선택\n",
    "club_searching.click()\n",
    "time.sleep(2)\n",
    "club_colorlists = driver.find_elements(By.CSS_SELECTOR, wrap_teamcolor+'> div.wrap_teamcolorlist > div > ul > li')\n",
    "\n",
    "\n",
    "total_ClubColorList = [] # 피온4 모든 클럽 팀컬러\n",
    "for c in range(len(club_colorlists)):\n",
    "    club = club_colorlists[c].text\n",
    "    total_ClubColorList.append(club)\n",
    "while '' in total_ClubColorList:\n",
    "    total_ClubColorList.remove('')\n",
    "total_ClubColorList = total_ClubColorList[1:]    \n",
    "\n",
    "nation_teamcolor = 'div > ul > li:nth-child(3)'\n",
    "search_teamcolor.click()\n",
    "time.sleep(2)\n",
    "nation_searching = search_teamcolor.find_element(By.CSS_SELECTOR,nation_teamcolor) # 국가 선택    \n",
    "nation_searching.click()\n",
    "time.sleep(2)\n",
    "nation_colorlists = driver.find_elements(By.CSS_SELECTOR,wrap_teamcolor+'> div.wrap_teamcolorlist > div > ul > li')\n",
    "\n",
    "total_NationColorList = [] # 피온4 모든 국가 팀컬러\n",
    "for n in range(len(nation_colorlists)):\n",
    "    nation = nation_colorlists[n].text\n",
    "    total_NationColorList.append(nation)\n",
    "while '' in total_NationColorList:\n",
    "    total_NationColorList.remove('')\n",
    "total_NationColorList = total_NationColorList[1:]"
   ]
  },
  {
   "cell_type": "code",
   "execution_count": 61,
   "id": "1a08ce99",
   "metadata": {},
   "outputs": [],
   "source": [
    "driver.quit()"
   ]
  },
  {
   "cell_type": "markdown",
   "id": "a1a40ad5",
   "metadata": {},
   "source": [
    "## 로그인 진행(스쿼드메이커 저장 작업 시 로그인이 되어있어야 함)"
   ]
  },
  {
   "cell_type": "code",
   "execution_count": 62,
   "id": "da097ad2",
   "metadata": {},
   "outputs": [
    {
     "name": "stderr",
     "output_type": "stream",
     "text": [
      "C:\\Users\\user\\AppData\\Local\\Temp/ipykernel_14804/304761245.py:2: DeprecationWarning: executable_path has been deprecated, please pass in a Service object\n",
      "  driver = webdriver.Chrome(chrome_path)\n"
     ]
    }
   ],
   "source": [
    "chrome_path = chromedriver_autoinstaller.install()\n",
    "driver = webdriver.Chrome(chrome_path) \n",
    "url = 'https://fifaonline4.nexon.com/datacenter/squadmaker'\n",
    "driver.get(url)"
   ]
  },
  {
   "cell_type": "code",
   "execution_count": 63,
   "id": "112cba2c",
   "metadata": {},
   "outputs": [],
   "source": [
    "login_btn = driver.find_element(By.CSS_SELECTOR,'body > div.gnbWrapper.gnbSizeL > div.gnbBar > div.gnbBarRight > div.gnbLogin').click()\n",
    "alert = driver.switch_to.alert \n",
    "alert.accept() # 경고창 뜨는 거 방지\n",
    "\n",
    "ID_input = driver.find_element(By.CSS_SELECTOR,'#txtNexonID').send_keys('khpoptop@gmail.com')\n",
    "pwd_input = driver.find_element(By.CSS_SELECTOR,'#txtPWD').send_keys('jimkwon950615')\n",
    "time.sleep(1)\n",
    "click_loginbtn = driver.find_element(By.CSS_SELECTOR,'#nexonLogin > fieldset > div.btLogin > button').click()"
   ]
  },
  {
   "cell_type": "code",
   "execution_count": 44,
   "id": "d971347f",
   "metadata": {},
   "outputs": [
    {
     "name": "stdout",
     "output_type": "stream",
     "text": [
      "첼시\n",
      "['팀 컬러', '맨체스터 시티', '리버풀', '토트넘 홋스퍼', '첼시', '아스널', '맨체스터 유나이티드', '울버햄프턴 원더러스', '레스터 시티', '에버턴', '왓퍼드', '바이에른 뮌헨', '보루시아 도르트문트', 'RB 라이프치히', '아인트라흐트 프랑크푸르트', '바이엘 04 레버쿠젠', 'VfL 볼프스부르크', 'FC 바르셀로나', '아틀레티코 마드리드', '레알 마드리드', '발렌시아 CF', 'RCD 에스파뇰', '유벤투스', '나폴리 FC', '인테르', '로마 FC', 'AC 밀란', '라티움', '파리 생제르맹', 'LOSC 릴', '올랭피크 리옹', '올랭피크 마르세유', '아약스', 'PSV', '전북 현대 모터스', '울산 현대 FC', 'FC 서울', '대구 FC', '김천 상무', '성남 FC', '강원 FC', '포항 스틸러스', '경남 FC', '수원 삼성 블루윙즈', '인천 유나이티드', '제주 유나이티드', '광저우 에버그란데 타오바오', '상하이 SIPG FC', '산둥 루넝 타이산', '충칭 리판', '톈진 테다 FC', '광저우 R&F FC', '상하이 그린랜드 선화', '광주 FC', '부산 아이파크', 'FC 안양', '부천 FC 1995', '안산 그리너스 FC', '전남 드래곤즈', '충남 아산 축구단', '수원 FC', '대전 하나 시티즌', '서울 이랜드', '웨스트 햄 유나이티드', '애스턴 빌라', '리즈 유나이티드', '사우샘프턴', '크리스털 팰리스', '뉴캐슬 유나이티드', '브라이턴 호브 앨비언', '번리', '풀럼', '웨스트 브로미치 앨비언', '셰필드 유나이티드', '세비야 FC', '비야레알 CF', '레알 소시에다드', '레알 베티스', '그라나다 CF', '레반테 UD', 'RC 셀타 비고', '아틀레틱 클럽 빌바오', '헤타페 CF', '카디스 CF', 'SD 에이바르', '레알 바야돌리드', '오사수나', '데포르티보 알라베스', '엘체 CF', 'SD 우에스카', '보루시아 묀헨글라트바흐', '1. FC 우니온 베를린', 'VfB 슈투트가르트', '베르더 브레멘', 'TSG 호펜하임', 'FC 아우크스부르크', '1. FC 쾰른', '헤르타 베를린', '아르미니아 빌레펠트', '1. FSV 마인츠 05', 'FC 살케 04', 'SC 프라이부르크', '베르가모 칼초', '사수올로', '엘라스 베로나', '삼프도리아', '피오렌티나', '베네벤토', '우디네세', '제노아', '볼로냐', '스페치아', '토리노', '칼리아리', '파르마', '크로토네', 'AS 모나코', '스타드 렌', 'FC 지롱댕 보르도', 'AS 생테티엔', 'FC 메스', 'RC 랑스', '앙제 SCO', '몽펠리에 HSC', '스타드 랭스', '스타드 브레스트 29', 'OGC 니스', 'RC 스트라스부르', 'FC 낭트', 'FC 로리앙', '디종 FCO', '님 올랭피크', '함부르크 SV', '블랙번 로버스', '미들즈브러', '스토크 시티', 'RCD 마요르카', 'LA 갤럭시', 'SL 벤피카', '갈라타사라이 SK', '레드불 잘츠부르크', '페예노르트', '샤흐타르 도네츠크', 'RC 겡크', '스파르타 프라하', '디나모 키이우', 'FC 포르투', '디나모 자그레브', 'FC 코펜하겐', 'FC 바젤 1893', '올림피아코스 CFP', '셀틱', '레인저스', '메디폴 바사크세히르 FK', '스포르팅 CP', '19 New Generation', '20 New Generation', 'Competitors Of Continents', 'Golden Rookies', 'Heroes Of the Team', 'ICON', 'Liverpool F.C. Ambassador', 'Loyal Heroes', 'Man City Icon', 'Moments of Glory', 'Multi-League Champions', 'National Hero Debut', 'Team K League', 'Team Korea Icon', 'Top Transfer', 'Tournament Best', 'Tournament Champions', 'Veteran', 'Nostalgia', 'Unsung Players', '21 KFA', '2012 KOREAN HEROES', 'European Best Stars', 'Best of Europe 21', 'Chelsea F.C. Ambassador', 'Back to Back', 'Captain', '21 NEW GENERATION', '22 HEROES', 'Free Agent', 'Legend of the Loan', 'Legendary Numbers', 'Spotlight', 'Real Madrid CF Ambassador']\n",
      "428\n"
     ]
    }
   ],
   "source": [
    "def squadmaking():\n",
    "    for i in range(11,0,-1): # formationPlayer11~formationPlayer1 순으로 공격수부터 골키퍼까지\n",
    "        position_name = driver.find_element(By.CSS_SELECTOR,'#formationPlayer'+str(i) > span > span.info > span.position).text # 포지션명\n",
    "        time.sleep(2)\n",
    "        squad = driver.find_element(By.CSS_SELECTOR,'#formationPlayer'+str(i))\n",
    "\n",
    "        squad.click()\n",
    "        time.sleep(2)\n",
    "        wrap_teamcolor = '#squadSearchform1 > div > div.search_form > div > div.search_input_detail > div.search_input_detail_teamcolor'\n",
    "        club_teamcolor = ' div > ul > li:nth-child(2)'\n",
    "        nation_teamcolor = 'div > ul > li:nth-child(3)'\n",
    "        search_teamcolor = driver.find_element(By.CSS_SELECTOR, wrap_teamcolor+'>div.wrap_teamcolor')\n",
    "        search_teamcolor.click()\n",
    "        time.sleep(2)\n",
    "        club_searching = search_teamcolor.find_element(By.CSS_SELECTOR,club_teamcolor)\n",
    "        club_searching.click()\n",
    "        time.sleep(2)\n",
    "        club_colorlists = driver.find_elements(By.CSS_SELECTOR, wrap_teamcolor+'> div.wrap_teamcolorlist > div > ul > li')\n",
    "        print(club_colorlists[4].text)\n",
    "        "
   ]
  },
  {
   "cell_type": "code",
   "execution_count": 68,
   "id": "d5991399",
   "metadata": {},
   "outputs": [
    {
     "ename": "ElementClickInterceptedException",
     "evalue": "Message: element click intercepted: Element <div class=\"player lam ui-draggable ui-droppable\" id=\"formationPlayer10\" style=\"\">...</div> is not clickable at point (506, 314). Other element would receive the click: <div class=\"search_form\">...</div>\n  (Session info: chrome=105.0.5195.127)\nStacktrace:\nBacktrace:\n\tOrdinal0 [0x0040C0A3+2212003]\n\tOrdinal0 [0x003A2CC1+1780929]\n\tOrdinal0 [0x002B465D+804445]\n\tOrdinal0 [0x002E9E04+1023492]\n\tOrdinal0 [0x002E7CF4+1015028]\n\tOrdinal0 [0x002E58FB+1005819]\n\tOrdinal0 [0x002E4567+1000807]\n\tOrdinal0 [0x002D9FB6+958390]\n\tOrdinal0 [0x002FEC1C+1109020]\n\tOrdinal0 [0x002D98F4+956660]\n\tOrdinal0 [0x002FEE34+1109556]\n\tOrdinal0 [0x0030F5B2+1177010]\n\tOrdinal0 [0x002FEA36+1108534]\n\tOrdinal0 [0x002D83C9+951241]\n\tOrdinal0 [0x002D9396+955286]\n\tGetHandleVerifier [0x006B9CE2+2746722]\n\tGetHandleVerifier [0x006AA234+2682548]\n\tGetHandleVerifier [0x0049B34A+524234]\n\tGetHandleVerifier [0x00499B60+518112]\n\tOrdinal0 [0x003A9FBC+1810364]\n\tOrdinal0 [0x003AEA28+1829416]\n\tOrdinal0 [0x003AEB15+1829653]\n\tOrdinal0 [0x003B8744+1869636]\n\tBaseThreadInitThunk [0x76DEFA29+25]\n\tRtlGetAppContainerNamedObjectPath [0x77A17B5E+286]\n\tRtlGetAppContainerNamedObjectPath [0x77A17B2E+238]\n",
     "output_type": "error",
     "traceback": [
      "\u001b[1;31m---------------------------------------------------------------------------\u001b[0m",
      "\u001b[1;31mElementClickInterceptedException\u001b[0m          Traceback (most recent call last)",
      "\u001b[1;32m~\\AppData\\Local\\Temp/ipykernel_14192/1531111817.py\u001b[0m in \u001b[0;36m<module>\u001b[1;34m\u001b[0m\n\u001b[0;32m     28\u001b[0m                 \u001b[0mtime\u001b[0m\u001b[1;33m.\u001b[0m\u001b[0msleep\u001b[0m\u001b[1;33m(\u001b[0m\u001b[1;36m2\u001b[0m\u001b[1;33m)\u001b[0m\u001b[1;33m\u001b[0m\u001b[1;33m\u001b[0m\u001b[0m\n\u001b[0;32m     29\u001b[0m                 \u001b[0msquad\u001b[0m \u001b[1;33m=\u001b[0m \u001b[0mdriver\u001b[0m\u001b[1;33m.\u001b[0m\u001b[0mfind_element\u001b[0m\u001b[1;33m(\u001b[0m\u001b[0mBy\u001b[0m\u001b[1;33m.\u001b[0m\u001b[0mCSS_SELECTOR\u001b[0m\u001b[1;33m,\u001b[0m\u001b[1;34m'#formationPlayer'\u001b[0m\u001b[1;33m+\u001b[0m\u001b[0mstr\u001b[0m\u001b[1;33m(\u001b[0m\u001b[0mk\u001b[0m\u001b[1;33m)\u001b[0m\u001b[1;33m)\u001b[0m\u001b[1;33m\u001b[0m\u001b[1;33m\u001b[0m\u001b[0m\n\u001b[1;32m---> 30\u001b[1;33m                 \u001b[0msquad\u001b[0m\u001b[1;33m.\u001b[0m\u001b[0mclick\u001b[0m\u001b[1;33m(\u001b[0m\u001b[1;33m)\u001b[0m\u001b[1;33m\u001b[0m\u001b[1;33m\u001b[0m\u001b[0m\n\u001b[0m",
      "\u001b[1;32m~\\anaconda3\\lib\\site-packages\\selenium\\webdriver\\remote\\webelement.py\u001b[0m in \u001b[0;36mclick\u001b[1;34m(self)\u001b[0m\n\u001b[0;32m     86\u001b[0m     \u001b[1;32mdef\u001b[0m \u001b[0mclick\u001b[0m\u001b[1;33m(\u001b[0m\u001b[0mself\u001b[0m\u001b[1;33m)\u001b[0m \u001b[1;33m->\u001b[0m \u001b[1;32mNone\u001b[0m\u001b[1;33m:\u001b[0m\u001b[1;33m\u001b[0m\u001b[1;33m\u001b[0m\u001b[0m\n\u001b[0;32m     87\u001b[0m         \u001b[1;34m\"\"\"Clicks the element.\"\"\"\u001b[0m\u001b[1;33m\u001b[0m\u001b[1;33m\u001b[0m\u001b[0m\n\u001b[1;32m---> 88\u001b[1;33m         \u001b[0mself\u001b[0m\u001b[1;33m.\u001b[0m\u001b[0m_execute\u001b[0m\u001b[1;33m(\u001b[0m\u001b[0mCommand\u001b[0m\u001b[1;33m.\u001b[0m\u001b[0mCLICK_ELEMENT\u001b[0m\u001b[1;33m)\u001b[0m\u001b[1;33m\u001b[0m\u001b[1;33m\u001b[0m\u001b[0m\n\u001b[0m\u001b[0;32m     89\u001b[0m \u001b[1;33m\u001b[0m\u001b[0m\n\u001b[0;32m     90\u001b[0m     \u001b[1;32mdef\u001b[0m \u001b[0msubmit\u001b[0m\u001b[1;33m(\u001b[0m\u001b[0mself\u001b[0m\u001b[1;33m)\u001b[0m\u001b[1;33m:\u001b[0m\u001b[1;33m\u001b[0m\u001b[1;33m\u001b[0m\u001b[0m\n",
      "\u001b[1;32m~\\anaconda3\\lib\\site-packages\\selenium\\webdriver\\remote\\webelement.py\u001b[0m in \u001b[0;36m_execute\u001b[1;34m(self, command, params)\u001b[0m\n\u001b[0;32m    394\u001b[0m             \u001b[0mparams\u001b[0m \u001b[1;33m=\u001b[0m \u001b[1;33m{\u001b[0m\u001b[1;33m}\u001b[0m\u001b[1;33m\u001b[0m\u001b[1;33m\u001b[0m\u001b[0m\n\u001b[0;32m    395\u001b[0m         \u001b[0mparams\u001b[0m\u001b[1;33m[\u001b[0m\u001b[1;34m'id'\u001b[0m\u001b[1;33m]\u001b[0m \u001b[1;33m=\u001b[0m \u001b[0mself\u001b[0m\u001b[1;33m.\u001b[0m\u001b[0m_id\u001b[0m\u001b[1;33m\u001b[0m\u001b[1;33m\u001b[0m\u001b[0m\n\u001b[1;32m--> 396\u001b[1;33m         \u001b[1;32mreturn\u001b[0m \u001b[0mself\u001b[0m\u001b[1;33m.\u001b[0m\u001b[0m_parent\u001b[0m\u001b[1;33m.\u001b[0m\u001b[0mexecute\u001b[0m\u001b[1;33m(\u001b[0m\u001b[0mcommand\u001b[0m\u001b[1;33m,\u001b[0m \u001b[0mparams\u001b[0m\u001b[1;33m)\u001b[0m\u001b[1;33m\u001b[0m\u001b[1;33m\u001b[0m\u001b[0m\n\u001b[0m\u001b[0;32m    397\u001b[0m \u001b[1;33m\u001b[0m\u001b[0m\n\u001b[0;32m    398\u001b[0m     \u001b[1;32mdef\u001b[0m \u001b[0mfind_element\u001b[0m\u001b[1;33m(\u001b[0m\u001b[0mself\u001b[0m\u001b[1;33m,\u001b[0m \u001b[0mby\u001b[0m\u001b[1;33m=\u001b[0m\u001b[0mBy\u001b[0m\u001b[1;33m.\u001b[0m\u001b[0mID\u001b[0m\u001b[1;33m,\u001b[0m \u001b[0mvalue\u001b[0m\u001b[1;33m=\u001b[0m\u001b[1;32mNone\u001b[0m\u001b[1;33m)\u001b[0m \u001b[1;33m->\u001b[0m \u001b[0mWebElement\u001b[0m\u001b[1;33m:\u001b[0m\u001b[1;33m\u001b[0m\u001b[1;33m\u001b[0m\u001b[0m\n",
      "\u001b[1;32m~\\anaconda3\\lib\\site-packages\\selenium\\webdriver\\remote\\webdriver.py\u001b[0m in \u001b[0;36mexecute\u001b[1;34m(self, driver_command, params)\u001b[0m\n\u001b[0;32m    426\u001b[0m         \u001b[0mresponse\u001b[0m \u001b[1;33m=\u001b[0m \u001b[0mself\u001b[0m\u001b[1;33m.\u001b[0m\u001b[0mcommand_executor\u001b[0m\u001b[1;33m.\u001b[0m\u001b[0mexecute\u001b[0m\u001b[1;33m(\u001b[0m\u001b[0mdriver_command\u001b[0m\u001b[1;33m,\u001b[0m \u001b[0mparams\u001b[0m\u001b[1;33m)\u001b[0m\u001b[1;33m\u001b[0m\u001b[1;33m\u001b[0m\u001b[0m\n\u001b[0;32m    427\u001b[0m         \u001b[1;32mif\u001b[0m \u001b[0mresponse\u001b[0m\u001b[1;33m:\u001b[0m\u001b[1;33m\u001b[0m\u001b[1;33m\u001b[0m\u001b[0m\n\u001b[1;32m--> 428\u001b[1;33m             \u001b[0mself\u001b[0m\u001b[1;33m.\u001b[0m\u001b[0merror_handler\u001b[0m\u001b[1;33m.\u001b[0m\u001b[0mcheck_response\u001b[0m\u001b[1;33m(\u001b[0m\u001b[0mresponse\u001b[0m\u001b[1;33m)\u001b[0m\u001b[1;33m\u001b[0m\u001b[1;33m\u001b[0m\u001b[0m\n\u001b[0m\u001b[0;32m    429\u001b[0m             response['value'] = self._unwrap_value(\n\u001b[0;32m    430\u001b[0m                 response.get('value', None))\n",
      "\u001b[1;32m~\\anaconda3\\lib\\site-packages\\selenium\\webdriver\\remote\\errorhandler.py\u001b[0m in \u001b[0;36mcheck_response\u001b[1;34m(self, response)\u001b[0m\n\u001b[0;32m    241\u001b[0m                 \u001b[0malert_text\u001b[0m \u001b[1;33m=\u001b[0m \u001b[0mvalue\u001b[0m\u001b[1;33m[\u001b[0m\u001b[1;34m'alert'\u001b[0m\u001b[1;33m]\u001b[0m\u001b[1;33m.\u001b[0m\u001b[0mget\u001b[0m\u001b[1;33m(\u001b[0m\u001b[1;34m'text'\u001b[0m\u001b[1;33m)\u001b[0m\u001b[1;33m\u001b[0m\u001b[1;33m\u001b[0m\u001b[0m\n\u001b[0;32m    242\u001b[0m             \u001b[1;32mraise\u001b[0m \u001b[0mexception_class\u001b[0m\u001b[1;33m(\u001b[0m\u001b[0mmessage\u001b[0m\u001b[1;33m,\u001b[0m \u001b[0mscreen\u001b[0m\u001b[1;33m,\u001b[0m \u001b[0mstacktrace\u001b[0m\u001b[1;33m,\u001b[0m \u001b[0malert_text\u001b[0m\u001b[1;33m)\u001b[0m  \u001b[1;31m# type: ignore[call-arg]  # mypy is not smart enough here\u001b[0m\u001b[1;33m\u001b[0m\u001b[1;33m\u001b[0m\u001b[0m\n\u001b[1;32m--> 243\u001b[1;33m         \u001b[1;32mraise\u001b[0m \u001b[0mexception_class\u001b[0m\u001b[1;33m(\u001b[0m\u001b[0mmessage\u001b[0m\u001b[1;33m,\u001b[0m \u001b[0mscreen\u001b[0m\u001b[1;33m,\u001b[0m \u001b[0mstacktrace\u001b[0m\u001b[1;33m)\u001b[0m\u001b[1;33m\u001b[0m\u001b[1;33m\u001b[0m\u001b[0m\n\u001b[0m",
      "\u001b[1;31mElementClickInterceptedException\u001b[0m: Message: element click intercepted: Element <div class=\"player lam ui-draggable ui-droppable\" id=\"formationPlayer10\" style=\"\">...</div> is not clickable at point (506, 314). Other element would receive the click: <div class=\"search_form\">...</div>\n  (Session info: chrome=105.0.5195.127)\nStacktrace:\nBacktrace:\n\tOrdinal0 [0x0040C0A3+2212003]\n\tOrdinal0 [0x003A2CC1+1780929]\n\tOrdinal0 [0x002B465D+804445]\n\tOrdinal0 [0x002E9E04+1023492]\n\tOrdinal0 [0x002E7CF4+1015028]\n\tOrdinal0 [0x002E58FB+1005819]\n\tOrdinal0 [0x002E4567+1000807]\n\tOrdinal0 [0x002D9FB6+958390]\n\tOrdinal0 [0x002FEC1C+1109020]\n\tOrdinal0 [0x002D98F4+956660]\n\tOrdinal0 [0x002FEE34+1109556]\n\tOrdinal0 [0x0030F5B2+1177010]\n\tOrdinal0 [0x002FEA36+1108534]\n\tOrdinal0 [0x002D83C9+951241]\n\tOrdinal0 [0x002D9396+955286]\n\tGetHandleVerifier [0x006B9CE2+2746722]\n\tGetHandleVerifier [0x006AA234+2682548]\n\tGetHandleVerifier [0x0049B34A+524234]\n\tGetHandleVerifier [0x00499B60+518112]\n\tOrdinal0 [0x003A9FBC+1810364]\n\tOrdinal0 [0x003AEA28+1829416]\n\tOrdinal0 [0x003AEB15+1829653]\n\tOrdinal0 [0x003B8744+1869636]\n\tBaseThreadInitThunk [0x76DEFA29+25]\n\tRtlGetAppContainerNamedObjectPath [0x77A17B5E+286]\n\tRtlGetAppContainerNamedObjectPath [0x77A17B2E+238]\n"
     ]
    }
   ],
   "source": [
    "column_len = driver.find_elements(By.CSS_SELECTOR,'div > div.squadmaker-selector__list__contents > div.squadmaker-selector__list.active > div.squadmaker-selector__list__total>div')\n",
    "index_len = column_len[0].find_elements(By.CSS_SELECTOR,'ul > li > a')\n",
    "\n",
    "# print(len(column_len))\n",
    "# print(len(index_len))\n",
    "\n",
    "formation_btn = driver.find_element(By.CSS_SELECTOR,'#squadMaker > div > div.squadmaker__utils > div.squadmaker__utils__aside__selector')\n",
    "for i in range(1,len(column_len)+1):\n",
    "    index_len = column_len[i-1].find_elements(By.CSS_SELECTOR,'ul > li > a')\n",
    "    for j in range(1,len(index_len)+1):\n",
    "        time.sleep(2)\n",
    "        formation_btn.click()\n",
    "        time.sleep(2)\n",
    "        formae = formation_btn.find_element(By.CSS_SELECTOR,'div > div.squadmaker-selector__list__contents > div.squadmaker-selector__list.active > div.squadmaker-selector__list__total > div:nth-child('+str(i)+') > ul > li:nth-child('+str(j)+') > a')\n",
    "        # print(formae)\n",
    "        if formae.text not in formation_top6: # 지정한 상위 6개 포메이션인지 확인\n",
    "            continue\n",
    "        else:    \n",
    "            time.sleep(2)\n",
    "            formae.click()\n",
    "            time.sleep(2)\n",
    "            # 이제 여기서부터 포메이션 제작 시작\n",
    "             # 팀 컬러 검색하고 입력하고 다 해야 된다. 함수 만드는 게 나을 듯(아래 for문 포함해서)\n",
    "            \n",
    "               "
   ]
  },
  {
   "cell_type": "code",
   "execution_count": 51,
   "id": "ccb6aa2c",
   "metadata": {},
   "outputs": [],
   "source": [
    "driver.quit()"
   ]
  },
  {
   "cell_type": "code",
   "execution_count": null,
   "id": "b0ce6eb3",
   "metadata": {},
   "outputs": [],
   "source": [
    "alert.accept() # 명령문 실행 시 alert가 없어진다"
   ]
  },
  {
   "cell_type": "code",
   "execution_count": null,
   "id": "b3f5c511",
   "metadata": {},
   "outputs": [],
   "source": [
    "from selenium import webdriver \n",
    "import time\n",
    "\n",
    "query_txt = input('검색할 단어를 입력해주세요 : ')\n",
    "\n",
    "#Step 1. 크롬 드라이버를 이용해서 웹 브라우저를 연다.\n",
    "path= \"C:/Download/chromedriver_win32/chromedriver.exe\" #개인의 드라이버 경로를 적으세요#\n",
    "driver = webdriver.Chrome(path)\n",
    "\n",
    "driver.get(\"https://www.google.com\")\n",
    "time.sleep(1)  \n",
    "\n",
    "#step 2. 검색창을 이름으로 찾아서 검색한다.\n",
    "element = driver.find_element_by_name('q') #검색창 html의 name이 'q'여서 q다\n",
    "element.send_keys(query_txt)               #검색 단어를 입력한다\n",
    "element.submit()                           #검색창 엔터 -> 결과"
   ]
  }
 ],
 "metadata": {
  "kernelspec": {
   "display_name": "Python 3 (ipykernel)",
   "language": "python",
   "name": "python3"
  },
  "language_info": {
   "codemirror_mode": {
    "name": "ipython",
    "version": 3
   },
   "file_extension": ".py",
   "mimetype": "text/x-python",
   "name": "python",
   "nbconvert_exporter": "python",
   "pygments_lexer": "ipython3",
   "version": "3.9.7"
  }
 },
 "nbformat": 4,
 "nbformat_minor": 5
}
