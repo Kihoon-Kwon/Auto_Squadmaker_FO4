{
 "cells": [
  {
   "cell_type": "markdown",
   "id": "aefc8c35",
   "metadata": {},
   "source": [
    "# 데일리차트 접속 후 인기 포메이션, 인기 팀 컬러 조사하기"
   ]
  },
  {
   "cell_type": "code",
   "execution_count": 1,
   "id": "59cf54be",
   "metadata": {},
   "outputs": [
    {
     "name": "stderr",
     "output_type": "stream",
     "text": [
      "C:\\Users\\user\\AppData\\Local\\Temp/ipykernel_8584/2310303632.py:14: DeprecationWarning: executable_path has been deprecated, please pass in a Service object\n",
      "  driver = webdriver.Chrome(chrome_path)\n"
     ]
    }
   ],
   "source": [
    "from selenium import webdriver\n",
    "from selenium.webdriver.common.by import By\n",
    "from selenium.webdriver.common.action_chains import ActionChains\n",
    "import chromedriver_autoinstaller\n",
    "import sys\n",
    "import os\n",
    "import re\n",
    "import requests\n",
    "import pandas as pd\n",
    "import numpy as np\n",
    "import time\n",
    "\n",
    "chrome_path = chromedriver_autoinstaller.install()\n",
    "driver = webdriver.Chrome(chrome_path)\n",
    "url = 'https://fifaonline4.nexon.com/datacenter/dailysquad'\n",
    "driver.get(url)\n",
    "response = requests.get(url)\n",
    "html = response.text"
   ]
  },
  {
   "cell_type": "code",
   "execution_count": 2,
   "id": "983a8afc",
   "metadata": {},
   "outputs": [
    {
     "data": {
      "text/plain": [
       "10"
      ]
     },
     "execution_count": 2,
     "metadata": {},
     "output_type": "execute_result"
    }
   ],
   "source": [
    "contents = driver.find_elements(By.CSS_SELECTOR,'#formationSwiper > div > div > div > div')\n",
    "len(contents)"
   ]
  },
  {
   "cell_type": "code",
   "execution_count": 3,
   "id": "fe84ad5f",
   "metadata": {},
   "outputs": [
    {
     "data": {
      "text/plain": [
       "'4-2-3-1'"
      ]
     },
     "execution_count": 3,
     "metadata": {},
     "output_type": "execute_result"
    }
   ],
   "source": [
    "contents[0].find_element(By.CSS_SELECTOR,'div.txt').text # 잘 나오는 것 확인"
   ]
  },
  {
   "cell_type": "code",
   "execution_count": 4,
   "id": "cac8bd06",
   "metadata": {},
   "outputs": [
    {
     "name": "stdout",
     "output_type": "stream",
     "text": [
      "['4-2-3-1', '4-2-2-1-1', '5-2-3', '4-2-2-2', '4-2-1-3', '5-2-1-2']\n"
     ]
    }
   ],
   "source": [
    "formation = []\n",
    "for content in contents:\n",
    "    formae = content.find_element(By.CSS_SELECTOR,'div.txt').text\n",
    "    formation.append(formae)\n",
    "    \n",
    "formation_top6 = formation[:6] # 상위 6개 포메이션 선정\n",
    "print(formation_top6)"
   ]
  },
  {
   "cell_type": "code",
   "execution_count": 5,
   "id": "403946ec",
   "metadata": {},
   "outputs": [
    {
     "name": "stdout",
     "output_type": "stream",
     "text": [
      "10\n"
     ]
    }
   ],
   "source": [
    "teams = driver.find_elements(By.CSS_SELECTOR,'#divTeamColorInfo > div')\n",
    "print(len(teams))"
   ]
  },
  {
   "cell_type": "code",
   "execution_count": 6,
   "id": "5863f8b6",
   "metadata": {},
   "outputs": [
    {
     "name": "stdout",
     "output_type": "stream",
     "text": [
      "첼시\n"
     ]
    }
   ],
   "source": [
    "print(teams[0].find_element(By.CSS_SELECTOR,'div.txt').text)"
   ]
  },
  {
   "cell_type": "code",
   "execution_count": 7,
   "id": "d7711daf",
   "metadata": {},
   "outputs": [
    {
     "name": "stdout",
     "output_type": "stream",
     "text": [
      "['첼시', '대한민국', '레알 마드리드', '바이에른 뮌헨']\n"
     ]
    }
   ],
   "source": [
    "team_color=[]\n",
    "\n",
    "for team in teams:\n",
    "    tc = team.find_element(By.CSS_SELECTOR,'div.txt').text\n",
    "    team_color.append(tc)\n",
    "    \n",
    "team_color_top4 = team_color[:4] # 상위 4개 팀컬러 선정\n",
    "print(team_color_top4)"
   ]
  },
  {
   "cell_type": "code",
   "execution_count": 8,
   "id": "9e31c0e7",
   "metadata": {},
   "outputs": [],
   "source": [
    "driver.quit()"
   ]
  },
  {
   "cell_type": "code",
   "execution_count": 9,
   "id": "35f5b29c",
   "metadata": {},
   "outputs": [],
   "source": [
    "PlayersData = pd.read_csv(\"./players_data/players_data.csv\",encoding='cp949') # 추출한 선수 명단 데이터를 불러온다."
   ]
  },
  {
   "cell_type": "code",
   "execution_count": 10,
   "id": "b43f2da7",
   "metadata": {},
   "outputs": [
    {
     "data": {
      "text/html": [
       "<div>\n",
       "<style scoped>\n",
       "    .dataframe tbody tr th:only-of-type {\n",
       "        vertical-align: middle;\n",
       "    }\n",
       "\n",
       "    .dataframe tbody tr th {\n",
       "        vertical-align: top;\n",
       "    }\n",
       "\n",
       "    .dataframe thead th {\n",
       "        text-align: right;\n",
       "    }\n",
       "</style>\n",
       "<table border=\"1\" class=\"dataframe\">\n",
       "  <thead>\n",
       "    <tr style=\"text-align: right;\">\n",
       "      <th></th>\n",
       "      <th>포지션</th>\n",
       "      <th>이름</th>\n",
       "      <th>클래스</th>\n",
       "    </tr>\n",
       "  </thead>\n",
       "  <tbody>\n",
       "    <tr>\n",
       "      <th>0</th>\n",
       "      <td>ST</td>\n",
       "      <td>박주영</td>\n",
       "      <td>2012KH</td>\n",
       "    </tr>\n",
       "    <tr>\n",
       "      <th>1</th>\n",
       "      <td>ST</td>\n",
       "      <td>R. 레반도프스키</td>\n",
       "      <td>22TOTY</td>\n",
       "    </tr>\n",
       "    <tr>\n",
       "      <th>2</th>\n",
       "      <td>ST</td>\n",
       "      <td>크리스티아누 호날두</td>\n",
       "      <td>22TOTS</td>\n",
       "    </tr>\n",
       "    <tr>\n",
       "      <th>3</th>\n",
       "      <td>ST</td>\n",
       "      <td>호나우두</td>\n",
       "      <td>MC</td>\n",
       "    </tr>\n",
       "    <tr>\n",
       "      <th>4</th>\n",
       "      <td>ST</td>\n",
       "      <td>크리스티아누 호날두</td>\n",
       "      <td>21TOTY</td>\n",
       "    </tr>\n",
       "    <tr>\n",
       "      <th>...</th>\n",
       "      <td>...</td>\n",
       "      <td>...</td>\n",
       "      <td>...</td>\n",
       "    </tr>\n",
       "    <tr>\n",
       "      <th>235</th>\n",
       "      <td>GK</td>\n",
       "      <td>에우통 레이치</td>\n",
       "      <td>21UCL</td>\n",
       "    </tr>\n",
       "    <tr>\n",
       "      <th>236</th>\n",
       "      <td>GK</td>\n",
       "      <td>닉 포프</td>\n",
       "      <td>LIVE</td>\n",
       "    </tr>\n",
       "    <tr>\n",
       "      <th>237</th>\n",
       "      <td>GK</td>\n",
       "      <td>조 하트</td>\n",
       "      <td>TC</td>\n",
       "    </tr>\n",
       "    <tr>\n",
       "      <th>238</th>\n",
       "      <td>GK</td>\n",
       "      <td>보이치에흐 슈체스니</td>\n",
       "      <td>EBS</td>\n",
       "    </tr>\n",
       "    <tr>\n",
       "      <th>239</th>\n",
       "      <td>GK</td>\n",
       "      <td>사미르 한다노비치</td>\n",
       "      <td>LIVE</td>\n",
       "    </tr>\n",
       "  </tbody>\n",
       "</table>\n",
       "<p>240 rows × 3 columns</p>\n",
       "</div>"
      ],
      "text/plain": [
       "    포지션          이름     클래스\n",
       "0    ST         박주영  2012KH\n",
       "1    ST   R. 레반도프스키  22TOTY\n",
       "2    ST  크리스티아누 호날두  22TOTS\n",
       "3    ST        호나우두      MC\n",
       "4    ST  크리스티아누 호날두  21TOTY\n",
       "..   ..         ...     ...\n",
       "235  GK     에우통 레이치   21UCL\n",
       "236  GK        닉 포프    LIVE\n",
       "237  GK        조 하트      TC\n",
       "238  GK  보이치에흐 슈체스니     EBS\n",
       "239  GK   사미르 한다노비치    LIVE\n",
       "\n",
       "[240 rows x 3 columns]"
      ]
     },
     "execution_count": 10,
     "metadata": {},
     "output_type": "execute_result"
    }
   ],
   "source": [
    "PlayersData"
   ]
  },
  {
   "cell_type": "code",
   "execution_count": 11,
   "id": "19c661bd",
   "metadata": {},
   "outputs": [
    {
     "name": "stdout",
     "output_type": "stream",
     "text": [
      "<class 'list'>\n",
      "[['ST', '박주영', '2012KH'], ['ST', 'R. 레반도프스키', '22TOTY'], ['ST', '크리스티아누 호날두', '22TOTS'], ['ST', '호나우두', 'MC'], ['ST', '크리스티아누 호날두', '21TOTY'], ['ST', '손흥민', '22TOTY'], ['ST', 'R. 레반도프스키', '21TOTY'], ['ST', '크리스티아누 호날두', 'MC'], ['ST', '지동원', '2012KH'], ['ST', '사뮈엘 에토', 'FA'], ['ST', '차범근', 'LN'], ['ST', '카이 하베르츠', '21UCL'], ['ST', 'R. 레반도프스키', '22TOTS'], ['ST', '손흥민', '21TOTY'], ['ST', '크리스티아누 호날두', 'LH'], ['ST', '차범근', 'LH'], ['CF', '박주영', '2012KH'], ['CF', '지동원', '2012KH'], ['CF', '사디오 마네', '21UCL'], ['CF', '이반 페리시치', 'LOL']]\n"
     ]
    }
   ],
   "source": [
    "PlayersData_list = PlayersData.values.tolist()\n",
    "print(type(PlayersData_list))\n",
    "print(PlayersData_list[:20])"
   ]
  },
  {
   "cell_type": "markdown",
   "id": "5381c7a1",
   "metadata": {},
   "source": [
    "# 스쿼드메이커를 이용한 자동 스쿼드 제작 시스템\n",
    "\n",
    "## 프로세스\n",
    "\n",
    "1. 인기 포메이션 6개 중 하나를 선정한다.\n",
    "2. 선정한 상위 4개의 팀 컬러 중 하나를 팀 컬러 검색창에 입력\n",
    "3. 전제조건\n",
    "\n",
    "    1) 포지션별로 선수 입력 시 PlayersData에 있는 선수들을 먼저 입력한다. 단 포지션별로 반영할 데이터의 범위는 자체적으로 선정한다.\n",
    "        - ex) 스쿼드메이커에서 LS,RS,ST,LF,RF,CF 자리는 PlayersData의 포지션이 ST,CF인 선수들 중에서 우선적으로 검색할 예정\n",
    "        - 검색을 모두 완료하였음에도 없는 경우에는 공란으로 우선 남겨둔다.\n",
    "    \n",
    "    2) 선수의 포지션은 선수 카드에 주어진 포지션이 아니라 유저들이 사용한 포지션을 따른다.\n",
    "   \n",
    "        - ex) TKL 차두리의 원래 포지션은 RB이지만, 유저들은 CB으로 주로 사용하므로 TKL 차두리는 CB로 분류, PlayersData에도 반영되어 있다\n",
    "        \n",
    "    3) 스쿼드 작성 순서는 공격진부터 골키퍼 순으로 작성\n",
    "    \n",
    "        - 일반적으로 공격진부터 스쿼드를 짜기 때문이다.\n",
    "    \n",
    "    \n",
    "4. PlayersData에 해당 선수가 존재하는 경우, 해당 선수의 이름과 시즌이 일치하는지 확인한 후 스쿼드에 포함\n",
    "\n",
    "    - 이름 검색 시 여러 선수가 검색되는 경우도 있으므로(페드로 검색 시 페드로 포로도 함께 검색되는 것처럼) 이름, 시즌 전부 확인\n",
    "    - 포지션별 인기 순으로 정렬된 것이므로 PlayersData 위에서부터 선수 이름 검색해서, 해당 선수가 존재하면 포함하면 된다.\n",
    "    \n",
    "5. 스쿼드 완료 후 급여가 초과된 경우 골키퍼, 측면 수비수 2명 중 급여가 높은 순으로 선수를 삭제한다.\n",
    "\n",
    "    - 삭제 후 다시 급여가 남게 되면, 남은 급여에 맞춰서 다른 선수를 포함한다.\n",
    "    \n",
    "6. 팀 컬러는 클럽 컬러, 국가 컬러만 고려한다."
   ]
  },
  {
   "cell_type": "code",
   "execution_count": 12,
   "id": "883137c9",
   "metadata": {},
   "outputs": [
    {
     "name": "stderr",
     "output_type": "stream",
     "text": [
      "C:\\Users\\user\\AppData\\Local\\Temp/ipykernel_8584/304761245.py:2: DeprecationWarning: executable_path has been deprecated, please pass in a Service object\n",
      "  driver = webdriver.Chrome(chrome_path)\n"
     ]
    }
   ],
   "source": [
    "chrome_path = chromedriver_autoinstaller.install()\n",
    "driver = webdriver.Chrome(chrome_path) \n",
    "url = 'https://fifaonline4.nexon.com/datacenter/squadmaker'\n",
    "driver.get(url)"
   ]
  },
  {
   "cell_type": "markdown",
   "id": "09cff91a",
   "metadata": {},
   "source": [
    "## FO4 모든 클럽 팀컬러, 국가 팀컬러 각각 리스트로 수집"
   ]
  },
  {
   "cell_type": "code",
   "execution_count": 13,
   "id": "ef66edea",
   "metadata": {},
   "outputs": [
    {
     "data": {
      "text/plain": [
       "['맨체스터 시티',\n",
       " '리버풀',\n",
       " '토트넘 홋스퍼',\n",
       " '첼시',\n",
       " '아스널',\n",
       " '맨체스터 유나이티드',\n",
       " '울버햄프턴 원더러스',\n",
       " '레스터 시티',\n",
       " '에버턴',\n",
       " '왓퍼드',\n",
       " '바이에른 뮌헨',\n",
       " '보루시아 도르트문트',\n",
       " 'RB 라이프치히',\n",
       " '아인트라흐트 프랑크푸르트',\n",
       " '바이엘 04 레버쿠젠',\n",
       " 'VfL 볼프스부르크',\n",
       " 'FC 바르셀로나',\n",
       " '아틀레티코 마드리드',\n",
       " '레알 마드리드',\n",
       " '발렌시아 CF']"
      ]
     },
     "execution_count": 13,
     "metadata": {},
     "output_type": "execute_result"
    }
   ],
   "source": [
    "squad = driver.find_element(By.CSS_SELECTOR,'#formationPlayer11')\n",
    "squad.click()\n",
    "time.sleep(2)\n",
    "wrap_teamcolor = '#squadSearchform1 > div > div.search_form > div > div.search_input_detail > div.search_input_detail_teamcolor'\n",
    "search_teamcolor = driver.find_element(By.CSS_SELECTOR, wrap_teamcolor+'>div.wrap_teamcolor')\n",
    "\n",
    "club_teamcolor = ' div > ul > li:nth-child(2)'\n",
    "search_teamcolor.click()\n",
    "time.sleep(2)\n",
    "club_searching = search_teamcolor.find_element(By.CSS_SELECTOR,club_teamcolor) # 클럽 선택\n",
    "club_searching.click()\n",
    "time.sleep(2)\n",
    "club_colorlists = driver.find_elements(By.CSS_SELECTOR, wrap_teamcolor+'> div.wrap_teamcolorlist > div > ul > li')\n",
    "\n",
    "\n",
    "total_ClubColorList = [] # 피온4 모든 클럽 팀컬러, 찾고자 하는 팀컬러가 여기에 없으면 국가 팀컬러라고 전제한다.\n",
    "for c in range(len(club_colorlists)):\n",
    "    club = club_colorlists[c].text\n",
    "    total_ClubColorList.append(club)\n",
    "while '' in total_ClubColorList:\n",
    "    total_ClubColorList.remove('')\n",
    "total_ClubColorList = total_ClubColorList[1:]    \n",
    "\n",
    "total_ClubColorList[:20]"
   ]
  },
  {
   "cell_type": "code",
   "execution_count": 14,
   "id": "c594b34d",
   "metadata": {},
   "outputs": [],
   "source": [
    "driver.quit()"
   ]
  },
  {
   "cell_type": "markdown",
   "id": "42b88a0d",
   "metadata": {},
   "source": [
    "## 로그인 진행(스쿼드메이커 저장 작업 시 로그인이 되어있어야 함)"
   ]
  },
  {
   "cell_type": "code",
   "execution_count": 15,
   "id": "44c2edf1",
   "metadata": {},
   "outputs": [
    {
     "name": "stderr",
     "output_type": "stream",
     "text": [
      "C:\\Users\\user\\AppData\\Local\\Temp/ipykernel_8584/304761245.py:2: DeprecationWarning: executable_path has been deprecated, please pass in a Service object\n",
      "  driver = webdriver.Chrome(chrome_path)\n"
     ]
    }
   ],
   "source": [
    "chrome_path = chromedriver_autoinstaller.install()\n",
    "driver = webdriver.Chrome(chrome_path) \n",
    "url = 'https://fifaonline4.nexon.com/datacenter/squadmaker'\n",
    "driver.get(url)"
   ]
  },
  {
   "cell_type": "code",
   "execution_count": 16,
   "id": "e475316b",
   "metadata": {},
   "outputs": [],
   "source": [
    "login_btn = driver.find_element(By.CSS_SELECTOR,'body > div.gnbWrapper.gnbSizeL > div.gnbBar > div.gnbBarRight > div.gnbLogin').click()\n",
    "alert = driver.switch_to.alert\n",
    "time.sleep(1)\n",
    "alert.accept() # 경고창 뜨는 거 방지\n",
    "\n",
    "ID_input = driver.find_element(By.CSS_SELECTOR,'#txtNexonID').send_keys('khpoptop@gmail.com')\n",
    "pwd_input = driver.find_element(By.CSS_SELECTOR,'#txtPWD').send_keys('jimkwon950615')\n",
    "time.sleep(1)\n",
    "click_loginbtn = driver.find_element(By.CSS_SELECTOR,'#nexonLogin > fieldset > div.btLogin > button').click()"
   ]
  },
  {
   "cell_type": "markdown",
   "id": "c638f009",
   "metadata": {},
   "source": [
    "### 포지션 정하기\n",
    "> PlayersData 상에 있는 포지션\n",
    "\n",
    "1. LS,RS,ST,LF,RF,CF -> PlayersData의 ST,CF에서 검색\n",
    "    - Forward\n",
    "2. LW,RW,LM,RM,LAM,RAM -> PlayersData의 LW,RW,LM,RM에서 검색\n",
    "    - Winger\n",
    "3. CAM -> PlayersData의 CAM에서 검색\n",
    "    - Attack_mid\n",
    "4. LCM,RCM,CM -> PlayersData의 CM,CAM에서 검색\n",
    "    - Central_mid\n",
    "5. LDM,RDM,DM -> PlayersData의 CDM,CM에서 검색\n",
    "    - Defend_mid\n",
    "6. LB,LWB -> PlayersData의 LB,LWB에서 검색\n",
    "    - Leftback\n",
    "7. RB,RWB -> PlayersData의 RB,RWB에서 검색\n",
    "    - Rightback\n",
    "8. LCB,RCB,CB -> PlayersData의 CB에서 검색\n",
    "    - Centerback\n",
    "9. GK는 GK에서 검색\n",
    "    - Goalkeeper"
   ]
  },
  {
   "cell_type": "code",
   "execution_count": 17,
   "id": "f7908ba5",
   "metadata": {},
   "outputs": [],
   "source": [
    "def choose_player():   \n",
    "    for player in PlayersData_sorted:\n",
    "        player_input = driver.find_element(By.CSS_SELECTOR,'#searchName').send_keys(player[1])\n",
    "        time.sleep(1)\n",
    "        player_searchbtn = driver.find_element(By.CSS_SELECTOR,'#squadSearchPlayerBtn').click()\n",
    "        time.sleep(2)\n",
    "        search_result = driver.find_elements(By.CSS_SELECTOR,'#ulPlayerList > li > div > div.info_top > div.name') # 검색 결과\n",
    "        #checked = driver.find_element(By.XPATH,'//*[@id=\"checkbox1\"]').get_attribute('checked') # 스쿼드에 미리 포함되어있는지 확인\n",
    "        if len(search_result)==0 or driver.find_element(By.XPATH,'//*[@id=\"checkbox1\"]').get_attribute('checked')=='true':\n",
    "            continue\n",
    "        else:\n",
    "            player_name = driver.find_elements(By.CSS_SELECTOR,'#ulPlayerList > li > div > div.info_top > div.name')[0].text\n",
    "            player_searched = driver.find_elements(By.CSS_SELECTOR,'#ulPlayerList > li') # 검색한 선수 목록\n",
    "            for k in range(len(player_searched)):\n",
    "                divTag = driver.find_element(By.CSS_SELECTOR,'#ulPlayerList > li.player.player'+str(k)+' > div > div.info_top > div.season > img')\n",
    "                src = divTag.get_attribute('src')\n",
    "                regex = re.compile('{}(.*){}'.format(re.escape('season/'), re.escape('.png')))\n",
    "                player_season = regex.findall(str(src))[0]\n",
    "                if player_season!=player[2]:\n",
    "                    continue\n",
    "                else:\n",
    "                    if player[1]==player_name: # 시즌, 이름 모두 같으면 선수를 스쿼드에 포함\n",
    "                        player_searched[k].click()\n",
    "                        time.sleep(2)\n",
    "                        break\n",
    "                    else:\n",
    "                        continue\n",
    "                    break\n",
    "        if PlayersData_sorted[-1][1]!=player_name:\n",
    "            break\n",
    "        break            "
   ]
  },
  {
   "cell_type": "code",
   "execution_count": null,
   "id": "bd1fb34f",
   "metadata": {},
   "outputs": [],
   "source": []
  },
  {
   "cell_type": "code",
   "execution_count": 18,
   "id": "d5991399",
   "metadata": {},
   "outputs": [
    {
     "ename": "KeyboardInterrupt",
     "evalue": "",
     "output_type": "error",
     "traceback": [
      "\u001b[1;31m---------------------------------------------------------------------------\u001b[0m",
      "\u001b[1;31mKeyboardInterrupt\u001b[0m                         Traceback (most recent call last)",
      "\u001b[1;32m~\\AppData\\Local\\Temp/ipykernel_8584/2013935235.py\u001b[0m in \u001b[0;36m<module>\u001b[1;34m\u001b[0m\n\u001b[0;32m     66\u001b[0m                     \u001b[1;32mif\u001b[0m \u001b[0mteam_color\u001b[0m \u001b[1;32mnot\u001b[0m \u001b[1;32min\u001b[0m \u001b[0mtotal_ClubColorList\u001b[0m\u001b[1;33m:\u001b[0m \u001b[1;31m# 클럽 팀 컬러에 없다면 국가 팀 컬러이다\u001b[0m\u001b[1;33m\u001b[0m\u001b[1;33m\u001b[0m\u001b[0m\n\u001b[0;32m     67\u001b[0m                         \u001b[0msearch_teamcolor\u001b[0m\u001b[1;33m.\u001b[0m\u001b[0mclick\u001b[0m\u001b[1;33m(\u001b[0m\u001b[1;33m)\u001b[0m\u001b[1;33m\u001b[0m\u001b[1;33m\u001b[0m\u001b[0m\n\u001b[1;32m---> 68\u001b[1;33m                         \u001b[0mtime\u001b[0m\u001b[1;33m.\u001b[0m\u001b[0msleep\u001b[0m\u001b[1;33m(\u001b[0m\u001b[1;36m2\u001b[0m\u001b[1;33m)\u001b[0m\u001b[1;33m\u001b[0m\u001b[1;33m\u001b[0m\u001b[0m\n\u001b[0m\u001b[0;32m     69\u001b[0m                         \u001b[0mnation_searching\u001b[0m \u001b[1;33m=\u001b[0m \u001b[0msearch_teamcolor\u001b[0m\u001b[1;33m.\u001b[0m\u001b[0mfind_element\u001b[0m\u001b[1;33m(\u001b[0m\u001b[0mBy\u001b[0m\u001b[1;33m.\u001b[0m\u001b[0mCSS_SELECTOR\u001b[0m\u001b[1;33m,\u001b[0m\u001b[0mnation_teamcolor\u001b[0m\u001b[1;33m)\u001b[0m\u001b[1;33m\u001b[0m\u001b[1;33m\u001b[0m\u001b[0m\n\u001b[0;32m     70\u001b[0m                         \u001b[0mnation_searching\u001b[0m\u001b[1;33m.\u001b[0m\u001b[0mclick\u001b[0m\u001b[1;33m(\u001b[0m\u001b[1;33m)\u001b[0m\u001b[1;33m\u001b[0m\u001b[1;33m\u001b[0m\u001b[0m\n",
      "\u001b[1;31mKeyboardInterrupt\u001b[0m: "
     ]
    }
   ],
   "source": [
    "# 실행부분\n",
    "\n",
    "column_len = driver.find_elements(By.CSS_SELECTOR,'div > div.squadmaker-selector__list__contents > div.squadmaker-selector__list.active > div.squadmaker-selector__list__total>div')\n",
    "index_len = column_len[0].find_elements(By.CSS_SELECTOR,'ul > li > a')\n",
    "\n",
    "# print(len(column_len))\n",
    "# print(len(index_len))\n",
    "\n",
    "formation_btn = driver.find_element(By.CSS_SELECTOR,'#squadMaker > div > div.squadmaker__utils > div.squadmaker__utils__aside__selector')\n",
    "for i in range(1,len(column_len)+1):\n",
    "    index_len = column_len[i-1].find_elements(By.CSS_SELECTOR,'ul > li > a')\n",
    "    for j in range(1,len(index_len)+1):\n",
    "        time.sleep(2)\n",
    "        formation_btn.click()\n",
    "        time.sleep(2)\n",
    "        formae = formation_btn.find_element(By.CSS_SELECTOR,'div > div.squadmaker-selector__list__contents > div.squadmaker-selector__list.active > div.squadmaker-selector__list__total > div:nth-child('+str(i)+') > ul > li:nth-child('+str(j)+') > a')\n",
    "        # print(formae)\n",
    "        if formae.text not in formation_top6: # 지정한 상위 6개 포메이션인지 확인\n",
    "            print('지정되지 않은 포메이션: ',formae.text)\n",
    "            continue\n",
    "        else:\n",
    "            print('지정된 포메이션: ',formae.text)\n",
    "            time.sleep(2)\n",
    "            formae.click()\n",
    "            time.sleep(2)\n",
    "            wrap_teamcolor = '#squadSearchform1 > div > div.search_form > div > div.search_input_detail > div.search_input_detail_teamcolor'\n",
    "            club_teamcolor = ' div > ul > li:nth-child(2)'\n",
    "            nation_teamcolor = 'div > ul > li:nth-child(3)'\n",
    "\n",
    "            for team_color in team_color_top4: # 상위 4개 팀컬러 중에서 순차적으로 선택\n",
    "                for j in range(11,0,-1):\n",
    "                    position_name = driver.find_element(By.CSS_SELECTOR,'#formationPlayer'+str(j)+' > span > span.info > span.position').text\n",
    "                    PlayersData_sorted=[]\n",
    "                    for playersdata in PlayersData_list: # 선수 데이터 리스트\n",
    "                        if position_name=='LS' or position_name=='RS' or position_name=='ST' or position_name=='LF' or position_name=='RF' or position_name=='CF':\n",
    "                            if playersdata[0]=='ST' or playersdata[0]=='CF':\n",
    "                                PlayersData_sorted.append(playersdata)\n",
    "                        elif position_name=='LW' or position_name=='RW' or position_name=='LM' or position_name=='RM' or position_name=='LAM' or position_name=='RAM':\n",
    "                            if playersdata[0]=='LW' or playersdata[0]=='RW' or playersdata[0]=='LM' or playersdata[0]=='RM':\n",
    "                                PlayersData_sorted.append(playersdata)\n",
    "                        elif position_name=='CAM':\n",
    "                            if playersdata[0]=='CAM':\n",
    "                                PlayersData_sorted.append(playersdata)\n",
    "                        elif position_name == 'LCM' or position_name=='RCM' or position_name=='CM':\n",
    "                            if playersdata[0]=='CM' or playersdata[0]=='CAM':\n",
    "                                PlayersData_sorted.append(playersdata)\n",
    "                        elif position_name=='LDM' or position_name=='RDM' or position_name=='CDM':\n",
    "                            if playersdata[0]=='CDM' or playersdata[0]=='CM':\n",
    "                                PlayersData_sorted.append(playersdata)\n",
    "                        elif position_name=='LB' or position_name=='LWB':\n",
    "                            if playersdata[0]=='LB' or playersdata[0]=='LWB':\n",
    "                                PlayersData_sorted.append(playersdata)\n",
    "                        elif position_name=='RB' or position_name=='RWB':\n",
    "                            if playersdata[0]=='RB' or playersdata[0]=='RWB':\n",
    "                                PlayersData_sorted.append(playersdata)\n",
    "                        elif position_name=='LCB' or position_name=='RCB' or position_name=='CB':\n",
    "                            if playersdata[0]=='CB':\n",
    "                                PlayersData_sorted.append(playersdata)\n",
    "                        elif position_name=='GK':\n",
    "                            if playersdata[0]=='GK':\n",
    "                                PlayersData_sorted.append(playersdata)\n",
    "                        else:\n",
    "                            continue\n",
    "                    squad = driver.find_element(By.CSS_SELECTOR,'#formationPlayer'+str(j)+'> span > span.animate') \n",
    "                    squad.click() # 스쿼드 십자 모양 클릭\n",
    "                    time.sleep(2)\n",
    "                    search_teamcolor = driver.find_element(By.CSS_SELECTOR, wrap_teamcolor+'>div.wrap_teamcolor')\n",
    "                    if team_color not in total_ClubColorList: # 클럽 팀 컬러에 없다면 국가 팀 컬러이다\n",
    "                        search_teamcolor.click()\n",
    "                        time.sleep(2)\n",
    "                        nation_searching = search_teamcolor.find_element(By.CSS_SELECTOR,nation_teamcolor)\n",
    "                        nation_searching.click()\n",
    "                        time.sleep(2)\n",
    "                        nation_colorlists = driver.find_elements(By.CSS_SELECTOR, wrap_teamcolor+'> div.wrap_teamcolorlist > div > ul > li')\n",
    "                        for nation in nation_colorlists:\n",
    "                            if nation.text==team_color:\n",
    "                                nation.click()\n",
    "                                time.sleep(2)\n",
    "                                choose_player() # 함수 실행\n",
    "                                \n",
    "                            else:\n",
    "                                continue\n",
    "                            break\n",
    "                    else:\n",
    "                        search_teamcolor.click()\n",
    "                        time.sleep(2)\n",
    "                        club_searching = search_teamcolor.find_element(By.CSS_SELECTOR,club_teamcolor)\n",
    "                        club_searching.click()\n",
    "                        time.sleep(2)\n",
    "                        club_colorlists = driver.find_elements(By.CSS_SELECTOR, wrap_teamcolor+'> div.wrap_teamcolorlist > div > ul > li')\n",
    "                        for club in club_colorlists:\n",
    "                            if club.text==team_color:\n",
    "                                club.click()\n",
    "                                time.sleep(2)\n",
    "                                choose_player() # 함수 실행\n",
    "                            else:\n",
    "                                continue\n",
    "                            break\n",
    "                    time.sleep(1)\n",
    "                current_formation = driver.find_element(By.CSS_SELECTOR,'#squadMaker > div > div.squadmaker__utils > div.squadmaker__utils__aside__selector.squadmaker-selector > a').text\n",
    "                save_squad_naming = driver.find_element(By.CSS_SELECTOR,'#squadSaveName').send_keys(team_color+current_formation)\n",
    "                save_squad_btn = driver.find_element(By.CSS_SELECTOR,'#middle > div > div > div.squad__wrap > div.squad__header-utils > div.squad-save-panel > div.squad-save-name-submit > button.squad-save-panel__btn-save').click()\n",
    "                time.sleep(3)\n",
    "                alert.accept()\n",
    "                for d in range(11,1,-1):\n",
    "                    del_players = driver.find_element(By.CSS_SELECTOR,'#formationPlayer'+str(d)+' > div > div.info.ui-draggable-handle > div.info_utils > a.btn_del').click()\n",
    "                    time.sleep(1)\n",
    "                del_gk = driver.find_element(By.CSS_SELECTOR,'#formationPlayer1 > div > div.info > div.info_utils > a.btn_del').click()\n",
    "                time.sleep(1)\n",
    "                    "
   ]
  },
  {
   "cell_type": "code",
   "execution_count": 19,
   "id": "aa825529",
   "metadata": {},
   "outputs": [],
   "source": [
    "driver.quit()"
   ]
  },
  {
   "cell_type": "code",
   "execution_count": null,
   "id": "44820c15",
   "metadata": {},
   "outputs": [],
   "source": []
  },
  {
   "cell_type": "code",
   "execution_count": null,
   "id": "cee29664",
   "metadata": {},
   "outputs": [],
   "source": []
  },
  {
   "cell_type": "code",
   "execution_count": null,
   "id": "5196c5fa",
   "metadata": {},
   "outputs": [],
   "source": []
  },
  {
   "cell_type": "code",
   "execution_count": null,
   "id": "6fc0098b",
   "metadata": {},
   "outputs": [],
   "source": []
  },
  {
   "cell_type": "code",
   "execution_count": null,
   "id": "50e5ddcd",
   "metadata": {},
   "outputs": [],
   "source": []
  },
  {
   "cell_type": "code",
   "execution_count": null,
   "id": "b32e8ccc",
   "metadata": {},
   "outputs": [],
   "source": []
  }
 ],
 "metadata": {
  "kernelspec": {
   "display_name": "Python 3 (ipykernel)",
   "language": "python",
   "name": "python3"
  },
  "language_info": {
   "codemirror_mode": {
    "name": "ipython",
    "version": 3
   },
   "file_extension": ".py",
   "mimetype": "text/x-python",
   "name": "python",
   "nbconvert_exporter": "python",
   "pygments_lexer": "ipython3",
   "version": "3.9.7"
  }
 },
 "nbformat": 4,
 "nbformat_minor": 5
}
