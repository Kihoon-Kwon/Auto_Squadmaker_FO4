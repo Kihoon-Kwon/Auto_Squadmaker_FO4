{
 "cells": [
  {
   "cell_type": "markdown",
   "id": "aefc8c35",
   "metadata": {},
   "source": [
    "# 데일리차트 접속 후 인기 포메이션, 인기 팀 컬러 조사하기"
   ]
  },
  {
   "cell_type": "code",
   "execution_count": 1,
   "id": "59cf54be",
   "metadata": {},
   "outputs": [
    {
     "name": "stderr",
     "output_type": "stream",
     "text": [
      "C:\\Users\\user\\AppData\\Local\\Temp/ipykernel_8552/2310303632.py:14: DeprecationWarning: executable_path has been deprecated, please pass in a Service object\n",
      "  driver = webdriver.Chrome(chrome_path)\n"
     ]
    }
   ],
   "source": [
    "from selenium import webdriver\n",
    "from selenium.webdriver.common.by import By\n",
    "from selenium.webdriver.common.action_chains import ActionChains\n",
    "import chromedriver_autoinstaller\n",
    "import sys\n",
    "import os\n",
    "import re\n",
    "import requests\n",
    "import pandas as pd\n",
    "import numpy as np\n",
    "import time\n",
    "\n",
    "chrome_path = chromedriver_autoinstaller.install()\n",
    "driver = webdriver.Chrome(chrome_path)\n",
    "url = 'https://fifaonline4.nexon.com/datacenter/dailysquad'\n",
    "driver.get(url)\n",
    "response = requests.get(url)\n",
    "html = response.text"
   ]
  },
  {
   "cell_type": "code",
   "execution_count": 2,
   "id": "983a8afc",
   "metadata": {},
   "outputs": [
    {
     "data": {
      "text/plain": [
       "10"
      ]
     },
     "execution_count": 2,
     "metadata": {},
     "output_type": "execute_result"
    }
   ],
   "source": [
    "contents = driver.find_elements(By.CSS_SELECTOR,'#formationSwiper > div > div > div > div')\n",
    "len(contents)"
   ]
  },
  {
   "cell_type": "code",
   "execution_count": 3,
   "id": "fe84ad5f",
   "metadata": {},
   "outputs": [
    {
     "data": {
      "text/plain": [
       "'4-2-3-1'"
      ]
     },
     "execution_count": 3,
     "metadata": {},
     "output_type": "execute_result"
    }
   ],
   "source": [
    "contents[0].find_element(By.CSS_SELECTOR,'div.txt').text # 잘 나오는 것 확인"
   ]
  },
  {
   "cell_type": "code",
   "execution_count": 4,
   "id": "cac8bd06",
   "metadata": {},
   "outputs": [
    {
     "name": "stdout",
     "output_type": "stream",
     "text": [
      "['4-2-3-1', '4-2-2-1-1', '5-2-3', '4-2-2-2', '4-2-1-3', '5-2-1-2']\n"
     ]
    }
   ],
   "source": [
    "formation = []\n",
    "for content in contents:\n",
    "    formae = content.find_element(By.CSS_SELECTOR,'div.txt').text\n",
    "    formation.append(formae)\n",
    "    \n",
    "formation_top6 = formation[:6] # 상위 6개 포메이션 선정\n",
    "print(formation_top6)"
   ]
  },
  {
   "cell_type": "code",
   "execution_count": 5,
   "id": "403946ec",
   "metadata": {},
   "outputs": [
    {
     "name": "stdout",
     "output_type": "stream",
     "text": [
      "10\n"
     ]
    }
   ],
   "source": [
    "teams = driver.find_elements(By.CSS_SELECTOR,'#divTeamColorInfo > div')\n",
    "print(len(teams))"
   ]
  },
  {
   "cell_type": "code",
   "execution_count": 6,
   "id": "5863f8b6",
   "metadata": {},
   "outputs": [
    {
     "name": "stdout",
     "output_type": "stream",
     "text": [
      "대한민국\n"
     ]
    }
   ],
   "source": [
    "print(teams[0].find_element(By.CSS_SELECTOR,'div.txt').text)"
   ]
  },
  {
   "cell_type": "code",
   "execution_count": 7,
   "id": "d7711daf",
   "metadata": {},
   "outputs": [
    {
     "name": "stdout",
     "output_type": "stream",
     "text": [
      "['대한민국', '첼시', '레알 마드리드', '바이에른 뮌헨']\n"
     ]
    }
   ],
   "source": [
    "team_color=[]\n",
    "\n",
    "for team in teams:\n",
    "    tc = team.find_element(By.CSS_SELECTOR,'div.txt').text\n",
    "    team_color.append(tc)\n",
    "    \n",
    "team_color_top4 = team_color[:4] # 상위 4개 팀컬러 선정\n",
    "print(team_color_top4)"
   ]
  },
  {
   "cell_type": "code",
   "execution_count": 8,
   "id": "9e31c0e7",
   "metadata": {},
   "outputs": [],
   "source": [
    "driver.quit()"
   ]
  },
  {
   "cell_type": "code",
   "execution_count": 9,
   "id": "35f5b29c",
   "metadata": {},
   "outputs": [],
   "source": [
    "PlayersData = pd.read_csv(\"./players_data/players_data.csv\",encoding='cp949') # 추출한 선수 명단 데이터를 불러온다."
   ]
  },
  {
   "cell_type": "code",
   "execution_count": 10,
   "id": "b43f2da7",
   "metadata": {},
   "outputs": [
    {
     "data": {
      "text/html": [
       "<div>\n",
       "<style scoped>\n",
       "    .dataframe tbody tr th:only-of-type {\n",
       "        vertical-align: middle;\n",
       "    }\n",
       "\n",
       "    .dataframe tbody tr th {\n",
       "        vertical-align: top;\n",
       "    }\n",
       "\n",
       "    .dataframe thead th {\n",
       "        text-align: right;\n",
       "    }\n",
       "</style>\n",
       "<table border=\"1\" class=\"dataframe\">\n",
       "  <thead>\n",
       "    <tr style=\"text-align: right;\">\n",
       "      <th></th>\n",
       "      <th>포지션</th>\n",
       "      <th>이름</th>\n",
       "      <th>클래스</th>\n",
       "    </tr>\n",
       "  </thead>\n",
       "  <tbody>\n",
       "    <tr>\n",
       "      <th>0</th>\n",
       "      <td>ST</td>\n",
       "      <td>박주영</td>\n",
       "      <td>2012KH</td>\n",
       "    </tr>\n",
       "    <tr>\n",
       "      <th>1</th>\n",
       "      <td>ST</td>\n",
       "      <td>R. 레반도프스키</td>\n",
       "      <td>22TOTY</td>\n",
       "    </tr>\n",
       "    <tr>\n",
       "      <th>2</th>\n",
       "      <td>ST</td>\n",
       "      <td>크리스티아누 호날두</td>\n",
       "      <td>22TOTS</td>\n",
       "    </tr>\n",
       "    <tr>\n",
       "      <th>3</th>\n",
       "      <td>ST</td>\n",
       "      <td>호나우두</td>\n",
       "      <td>MC</td>\n",
       "    </tr>\n",
       "    <tr>\n",
       "      <th>4</th>\n",
       "      <td>ST</td>\n",
       "      <td>크리스티아누 호날두</td>\n",
       "      <td>21TOTY</td>\n",
       "    </tr>\n",
       "    <tr>\n",
       "      <th>...</th>\n",
       "      <td>...</td>\n",
       "      <td>...</td>\n",
       "      <td>...</td>\n",
       "    </tr>\n",
       "    <tr>\n",
       "      <th>235</th>\n",
       "      <td>GK</td>\n",
       "      <td>에우통 레이치</td>\n",
       "      <td>21UCL</td>\n",
       "    </tr>\n",
       "    <tr>\n",
       "      <th>236</th>\n",
       "      <td>GK</td>\n",
       "      <td>닉 포프</td>\n",
       "      <td>LIVE</td>\n",
       "    </tr>\n",
       "    <tr>\n",
       "      <th>237</th>\n",
       "      <td>GK</td>\n",
       "      <td>조 하트</td>\n",
       "      <td>TC</td>\n",
       "    </tr>\n",
       "    <tr>\n",
       "      <th>238</th>\n",
       "      <td>GK</td>\n",
       "      <td>보이치에흐 슈체스니</td>\n",
       "      <td>EBS</td>\n",
       "    </tr>\n",
       "    <tr>\n",
       "      <th>239</th>\n",
       "      <td>GK</td>\n",
       "      <td>사미르 한다노비치</td>\n",
       "      <td>LIVE</td>\n",
       "    </tr>\n",
       "  </tbody>\n",
       "</table>\n",
       "<p>240 rows × 3 columns</p>\n",
       "</div>"
      ],
      "text/plain": [
       "    포지션          이름     클래스\n",
       "0    ST         박주영  2012KH\n",
       "1    ST   R. 레반도프스키  22TOTY\n",
       "2    ST  크리스티아누 호날두  22TOTS\n",
       "3    ST        호나우두      MC\n",
       "4    ST  크리스티아누 호날두  21TOTY\n",
       "..   ..         ...     ...\n",
       "235  GK     에우통 레이치   21UCL\n",
       "236  GK        닉 포프    LIVE\n",
       "237  GK        조 하트      TC\n",
       "238  GK  보이치에흐 슈체스니     EBS\n",
       "239  GK   사미르 한다노비치    LIVE\n",
       "\n",
       "[240 rows x 3 columns]"
      ]
     },
     "execution_count": 10,
     "metadata": {},
     "output_type": "execute_result"
    }
   ],
   "source": [
    "PlayersData"
   ]
  },
  {
   "cell_type": "code",
   "execution_count": 11,
   "id": "19c661bd",
   "metadata": {},
   "outputs": [
    {
     "name": "stdout",
     "output_type": "stream",
     "text": [
      "<class 'list'>\n",
      "[['ST', '박주영', '2012KH'], ['ST', 'R. 레반도프스키', '22TOTY'], ['ST', '크리스티아누 호날두', '22TOTS'], ['ST', '호나우두', 'MC'], ['ST', '크리스티아누 호날두', '21TOTY'], ['ST', '손흥민', '22TOTY'], ['ST', 'R. 레반도프스키', '21TOTY'], ['ST', '크리스티아누 호날두', 'MC'], ['ST', '지동원', '2012KH'], ['ST', '사뮈엘 에토', 'FA'], ['ST', '차범근', 'LN'], ['ST', '카이 하베르츠', '21UCL'], ['ST', 'R. 레반도프스키', '22TOTS'], ['ST', '손흥민', '21TOTY'], ['ST', '크리스티아누 호날두', 'LH'], ['ST', '차범근', 'LH'], ['CF', '박주영', '2012KH'], ['CF', '지동원', '2012KH'], ['CF', '사디오 마네', '21UCL'], ['CF', '이반 페리시치', 'LOL'], ['CF', '차범근', 'LH'], ['CF', '세르주 그나브리', '21UCL'], ['CF', '카이 하베르츠', '21UCL'], ['CF', '손흥민', '22TOTY'], ['CF', '고정운', 'TKL'], ['CF', '이반 페리시치', '21UCL'], ['CF', '카림 벤제마', 'BOE21'], ['CF', '메이슨 마운트', '22TOTN'], ['CF', '호나우두', 'MC'], ['CF', '손흥민', '21TOTY'], ['CF', '카림 벤제마', '21UCL'], ['CF', '모하메드 살라', '22TOTS'], ['LW', '사디오 마네', '21UCL'], ['LW', '에덴 아자르', 'EBS'], ['LW', '고정운', 'TKL'], ['LW', '필 포든', '22TOTS'], ['LW', '차범근', 'LH'], ['LW', '비니시우스 주니어', '21UCL'], ['LW', '페드로', 'UP'], ['LW', '세르주 그나브리', '21UCL'], ['LW', '비니시우스 주니어', '21NG'], ['LW', '프랑크 리베리', 'VTR'], ['LW', '비니시우스 주니어', '22TOTS'], ['LW', '네이마르 Jr.', '22TOTN'], ['LW', '사디오 마네', 'MC'], ['LW', '필 포든', '22TOTN'], ['LW', '이반 페리시치', '21UCL'], ['LW', '나니', 'VTR'], ['RW', '차범근', 'LH'], ['RW', '세르주 그나브리', '21UCL'], ['RW', '호드리구', '21UCL'], ['RW', '페드로', 'UP'], ['RW', '세르주 그나브리', '19UCL'], ['RW', '고정운', 'TKL'], ['RW', '에덴 아자르', 'EBS'], ['RW', '모하메드 살라', '22TOTS'], ['RW', '가레스 베일', 'EBS'], ['RW', '카카', 'MC'], ['RW', '리오넬 메시', 'LH'], ['RW', '이반 페리시치', '21UCL'], ['RW', '리야드 마레즈', '21UCL'], ['RW', '이반 페리시치', 'LOL'], ['RW', '사디오 마네', '21UCL'], ['RW', '메이슨 마운트', '21UCL'], ['CM', '유상철', 'CAP'], ['CM', '기성용', '2012KH'], ['CM', '미하엘 발락', 'MC'], ['CM', '이창민', '21KLB'], ['CM', '아르투로 비달', '21UCL'], ['CM', '유상철', 'TKL'], ['CM', '케빈 더브라위너', '21UCL'], ['CM', '티아고', '21UCL'], ['CM', '스티븐 제라드', 'EBS'], ['CM', '스티븐 제라드', 'LH'], ['CM', '일카이 귄도안', '21UCL'], ['CM', '폴 포그바', 'BOE21'], ['CM', '토니 크로스', '21UCL'], ['CM', '마르코스 요렌테', '22TOTN'], ['CM', '루드 굴리트', 'MC'], ['CM', '미하엘 발락', 'EBS'], ['CAM', '지동원', '2012KH'], ['CAM', '이반 페리시치', 'LOL'], ['CAM', '박주영', '2012KH'], ['CAM', '차범근', 'LH'], ['CAM', '고정운', 'TKL'], ['CAM', '세르주 그나브리', '21UCL'], ['CAM', '사디오 마네', '21UCL'], ['CAM', '케빈 더브라위너', '21UCL'], ['CAM', '루드 굴리트', 'MC'], ['CAM', '카림 벤제마', 'BOE21'], ['CAM', '메이슨 마운트', '21UCL'], ['CAM', '페드로', 'UP'], ['CAM', '이반 페리시치', '21UCL'], ['CAM', '토마스 뮐러', '22TOTN'], ['CAM', '루드 굴리트', 'EBS'], ['CAM', '에덴 아자르', 'EBS'], ['CDM', '미하엘 발락', 'MC'], ['CDM', '유상철', 'CAP'], ['CDM', '아르투로 비달', '21UCL'], ['CDM', '기성용', '2012KH'], ['CDM', '마이클 에시앙', 'MC'], ['CDM', '이창민', '21KLB'], ['CDM', '유상철', 'TKL'], ['CDM', '레온 고레츠카', '22TOTN'], ['CDM', '데이비드 알라바', '21UCL'], ['CDM', '미하엘 발락', 'FA'], ['CDM', '마르코스 요렌테', '22TOTN'], ['CDM', '레온 고레츠카', '21UCL'], ['CDM', '마르코스 요렌테', '21TOTS'], ['CDM', '로드리', '21UCL'], ['CDM', '카제미루', '21UCL'], ['CDM', '폴 포그바', 'BOE21'], ['LM', '고정운', 'TKL'], ['LM', '사디오 마네', '21UCL'], ['LM', '에덴 아자르', 'EBS'], ['LM', '페드로', 'UP'], ['LM', '이반 페리시치', '21UCL'], ['LM', '프랑크 리베리', 'VTR'], ['LM', '차범근', 'LH'], ['LM', '메이슨 마운트', '21UCL'], ['LM', '이동준', '21KFA'], ['LM', '잔프랑코 졸라', 'CFA'], ['LM', '세르주 그나브리', '21UCL'], ['LM', '잔프랑코 졸라', 'LN'], ['LM', '나니', 'VTR'], ['LM', '이반 페리시치', 'LH'], ['LM', '필 포든', '22TOTS'], ['LM', '이반 페리시치', 'LOL'], ['RM', '차범근', 'LH'], ['RM', '세르주 그나브리', '21UCL'], ['RM', '고정운', 'TKL'], ['RM', '세르주 그나브리', '19UCL'], ['RM', '메이슨 마운트', '21UCL'], ['RM', '이동준', '21KFA'], ['RM', '호드리구', '21UCL'], ['RM', '에덴 아자르', 'EBS'], ['RM', '페드로', 'UP'], ['RM', '조 콜', 'CFA'], ['RM', '사디오 마네', '21UCL'], ['RM', '이반 페리시치', '21UCL'], ['RM', '잔프랑코 졸라', 'LN'], ['RM', '조 콜', 'LN'], ['RM', '페드로', 'BTB'], ['RM', '페데리코 키에사', '21UCL'], ['CB', '차두리', 'TKL'], ['CB', '안토니오 뤼디거', '20UCL'], ['CB', '뱅자맹 파바르', '21UCL'], ['CB', '뤼카 에르난데스', '21UCL'], ['CB', '라파엘 바란', 'BOE21'], ['CB', '에데르 밀리탕', '21UCL'], ['CB', '홍정호', '21KLB'], ['CB', '윤석영', '2012KH'], ['CB', '안토니오 뤼디거', '22TOTN'], ['CB', '김민재', 'TKL'], ['CB', '이브라히마 코나테', '21UCL'], ['CB', '안토니오 뤼디거', '21UCL'], ['CB', '피카요 토모리', 'LOL'], ['CB', '덴젤 둠프리스', 'BOE21'], ['CB', '다요 우파메카노', '21UCL'], ['CB', '크리스티안 로메로', '22TOTN'], ['LB', '벤 칠웰', '21UCL'], ['LB', '벤 칠웰', '20UCL'], ['LB', '알폰소 데이비스', '20UCL'], ['LB', '이기제', '21KLB'], ['LB', '테오 에르난데스', 'LIVE'], ['LB', '홍철', 'TKL'], ['LB', '누누 멘데스', '21UCL'], ['LB', '알폰소 데이비스', '19UCL'], ['LB', '데이비드 알라바', 'LH'], ['LB', '테오 에르난데스', '21PLA'], ['LB', '안드레아스 브레메', 'LH'], ['LB', '데이비드 알라바', '20UCL'], ['LB', '마르셀루', 'LH'], ['LB', '테오 에르난데스', '19PLA'], ['LB', '페를랑 멘디', '21UCL'], ['LB', '페를랑 멘디', '20UCL'], ['RB', '요주아 키미히', '19UCL'], ['RB', '리스 제임스', '20UCL'], ['RB', '김태환', 'TKL'], ['RB', '아슈라프 하키미', '21UCL'], ['RB', '리스 제임스', '21UCL'], ['RB', '강상우', '21KLB'], ['RB', '카르바할', '20UCL'], ['RB', '리스 제임스', 'BOE21'], ['RB', '아슈라프 하키미', 'LIVE'], ['RB', 'T. 알렉산더-아놀드', '20UCL'], ['RB', '카일 워커', '21UCL'], ['RB', '안드레아스 브레메', 'LH'], ['RB', '김태환', '20KLB'], ['RB', '카르바할', '21UCL'], ['RB', '디오구 달로', '21UCL'], ['RB', '김태환', '21KLB'], ['LWB', '벤 칠웰', '21UCL'], ['LWB', '이기제', '21KLB'], ['LWB', '누누 멘데스', '21UCL'], ['LWB', '홍철', 'TKL'], ['LWB', '알폰소 데이비스', '20UCL'], ['LWB', '벤 칠웰', '20UCL'], ['LWB', 'K. 치미카스', '21UCL'], ['LWB', '페를랑 멘디', '21UCL'], ['LWB', '하석주', 'TKL'], ['LWB', '앤드루 로버트슨', '21UCL'], ['LWB', '올렉산드르 진첸코', '21UCL'], ['LWB', '앤드루 로버트슨', '19UCL'], ['LWB', '알폰소 데이비스', '19UCL'], ['LWB', '알렉스 텔리스', '21UCL'], ['LWB', '테오 에르난데스', 'LIVE'], ['LWB', '애슐리 콜', 'EBS'], ['RWB', '아슈라프 하키미', '21UCL'], ['RWB', '요주아 키미히', '19UCL'], ['RWB', '리스 제임스', '20UCL'], ['RWB', '리스 제임스', '21UCL'], ['RWB', '김태환', 'TKL'], ['RWB', 'T. 알렉산더-아놀드', '20UCL'], ['RWB', '강상우', '21KLB'], ['RWB', '카일 워커', '21UCL'], ['RWB', '카르바할', '20UCL'], ['RWB', '디오구 달로', '21UCL'], ['RWB', '카르바할', '21UCL'], ['RWB', '김태환', '21KLB'], ['RWB', '후안 콰드라도', '21UCL'], ['RWB', '김태환', '20KLB'], ['RWB', 'T. 알렉산더-아놀드', '21UCL'], ['RWB', '카르바할', 'UP'], ['GK', '티보 쿠르투아', 'LIVE'], ['GK', '이범영', '2012KH'], ['GK', '마누엘 노이어', 'LIVE'], ['GK', '에드윈 반데르사르', 'NHD'], ['GK', '티보 쿠르투아', '20UCL'], ['GK', '잔루이지 돈나룸마', 'LIVE'], ['GK', '티보 쿠르투아', 'LH'], ['GK', '양한빈', '22KL'], ['GK', '닉 포프', 'TB'], ['GK', '슈벤 울라이히', '21UCL'], ['GK', '티보 쿠르투아', 'TB'], ['GK', '에우통 레이치', '21UCL'], ['GK', '닉 포프', 'LIVE'], ['GK', '조 하트', 'TC'], ['GK', '보이치에흐 슈체스니', 'EBS'], ['GK', '사미르 한다노비치', 'LIVE']]\n"
     ]
    }
   ],
   "source": [
    "PlayersData_list = PlayersData.values.tolist()\n",
    "print(type(PlayersData_list))\n",
    "print(PlayersData_list)"
   ]
  },
  {
   "cell_type": "markdown",
   "id": "5381c7a1",
   "metadata": {},
   "source": [
    "# 스쿼드메이커를 이용한 자동 스쿼드 제작 시스템\n",
    "\n",
    "## 프로세스\n",
    "\n",
    "1. 인기 포메이션 6개 중 하나를 선정한다.\n",
    "2. 선정한 상위 4개의 팀 컬러 중 하나를 팀 컬러 검색창에 입력\n",
    "3. 전제조건\n",
    "\n",
    "    1) 포지션별로 선수 입력 시 PlayersData에 있는 선수들을 먼저 입력한다. 단 포지션별로 반영할 데이터의 범위는 자체적으로 선정한다.\n",
    "        - ex) 스쿼드메이커에서 LS,RS,ST,LF,RF,CF 자리는 PlayersData의 포지션이 ST,CF인 선수들 중에서 우선적으로 검색할 예정\n",
    "        - 검색을 모두 완료하였음에도 없는 경우에는 공란으로 우선 남겨둔다.\n",
    "    \n",
    "    2) 선수의 포지션은 선수 카드에 주어진 포지션이 아니라 유저들이 사용한 포지션을 따른다.\n",
    "   \n",
    "        - ex) TKL 차두리의 원래 포지션은 RB이지만, 유저들은 CB으로 주로 사용하므로 TKL 차두리는 CB로 분류, PlayersData에도 반영되어 있다\n",
    "        \n",
    "    3) 스쿼드 작성 순서는 공격진부터 골키퍼 순으로 작성\n",
    "    \n",
    "        - 일반적으로 공격진부터 스쿼드를 짜기 때문이다.\n",
    "    \n",
    "    \n",
    "4. PlayersData에 해당 선수가 존재하는 경우, 해당 선수의 이름과 시즌이 일치하는지 확인한 후 스쿼드에 포함\n",
    "\n",
    "    - 이름 검색 시 여러 선수가 검색되는 경우도 있으므로(페드로 검색 시 페드로 포로도 함께 검색되는 것처럼) 이름, 시즌 전부 확인\n",
    "    - 포지션별 인기 순으로 정렬된 것이므로 PlayersData 위에서부터 선수 이름 검색해서, 해당 선수가 존재하면 포함하면 된다.\n",
    "    \n",
    "5. 스쿼드 완료 후 급여가 초과된 경우 골키퍼, 측면 수비수 2명 중 급여가 높은 순으로 선수를 삭제한다.\n",
    "\n",
    "    - 삭제 후 다시 급여가 남게 되면, 남은 급여에 맞춰서 다른 선수를 포함한다.\n",
    "    \n",
    "6. 팀 컬러는 클럽 컬러, 국가 컬러만 고려한다."
   ]
  },
  {
   "cell_type": "code",
   "execution_count": 12,
   "id": "883137c9",
   "metadata": {},
   "outputs": [
    {
     "name": "stderr",
     "output_type": "stream",
     "text": [
      "C:\\Users\\user\\AppData\\Local\\Temp/ipykernel_8552/304761245.py:2: DeprecationWarning: executable_path has been deprecated, please pass in a Service object\n",
      "  driver = webdriver.Chrome(chrome_path)\n"
     ]
    }
   ],
   "source": [
    "chrome_path = chromedriver_autoinstaller.install()\n",
    "driver = webdriver.Chrome(chrome_path) \n",
    "url = 'https://fifaonline4.nexon.com/datacenter/squadmaker'\n",
    "driver.get(url)"
   ]
  },
  {
   "cell_type": "markdown",
   "id": "09cff91a",
   "metadata": {},
   "source": [
    "## FO4 모든 클럽 팀컬러, 국가 팀컬러 각각 리스트로 수집"
   ]
  },
  {
   "cell_type": "code",
   "execution_count": 13,
   "id": "ef66edea",
   "metadata": {},
   "outputs": [
    {
     "data": {
      "text/plain": [
       "['맨체스터 시티',\n",
       " '리버풀',\n",
       " '토트넘 홋스퍼',\n",
       " '첼시',\n",
       " '아스널',\n",
       " '맨체스터 유나이티드',\n",
       " '울버햄프턴 원더러스',\n",
       " '레스터 시티',\n",
       " '에버턴',\n",
       " '왓퍼드',\n",
       " '바이에른 뮌헨',\n",
       " '보루시아 도르트문트',\n",
       " 'RB 라이프치히',\n",
       " '아인트라흐트 프랑크푸르트',\n",
       " '바이엘 04 레버쿠젠',\n",
       " 'VfL 볼프스부르크',\n",
       " 'FC 바르셀로나',\n",
       " '아틀레티코 마드리드',\n",
       " '레알 마드리드',\n",
       " '발렌시아 CF']"
      ]
     },
     "execution_count": 13,
     "metadata": {},
     "output_type": "execute_result"
    }
   ],
   "source": [
    "squad = driver.find_element(By.CSS_SELECTOR,'#formationPlayer11')\n",
    "squad.click()\n",
    "time.sleep(2)\n",
    "wrap_teamcolor = '#squadSearchform1 > div > div.search_form > div > div.search_input_detail > div.search_input_detail_teamcolor'\n",
    "search_teamcolor = driver.find_element(By.CSS_SELECTOR, wrap_teamcolor+'>div.wrap_teamcolor')\n",
    "\n",
    "club_teamcolor = ' div > ul > li:nth-child(2)'\n",
    "search_teamcolor.click()\n",
    "time.sleep(2)\n",
    "club_searching = search_teamcolor.find_element(By.CSS_SELECTOR,club_teamcolor) # 클럽 선택\n",
    "club_searching.click()\n",
    "time.sleep(2)\n",
    "club_colorlists = driver.find_elements(By.CSS_SELECTOR, wrap_teamcolor+'> div.wrap_teamcolorlist > div > ul > li')\n",
    "\n",
    "\n",
    "total_ClubColorList = [] # 피온4 모든 클럽 팀컬러, 찾고자 하는 팀컬러가 여기에 없으면 국가 팀컬러라고 전제한다.\n",
    "for c in range(len(club_colorlists)):\n",
    "    club = club_colorlists[c].text\n",
    "    total_ClubColorList.append(club)\n",
    "while '' in total_ClubColorList:\n",
    "    total_ClubColorList.remove('')\n",
    "total_ClubColorList = total_ClubColorList[1:]    \n",
    "\n",
    "total_ClubColorList[:20]"
   ]
  },
  {
   "cell_type": "code",
   "execution_count": 14,
   "id": "c594b34d",
   "metadata": {},
   "outputs": [],
   "source": [
    "driver.quit()"
   ]
  },
  {
   "cell_type": "markdown",
   "id": "42b88a0d",
   "metadata": {},
   "source": [
    "## 로그인 진행(스쿼드메이커 저장 작업 시 로그인이 되어있어야 함)"
   ]
  },
  {
   "cell_type": "code",
   "execution_count": 15,
   "id": "44c2edf1",
   "metadata": {},
   "outputs": [
    {
     "name": "stderr",
     "output_type": "stream",
     "text": [
      "C:\\Users\\user\\AppData\\Local\\Temp/ipykernel_8552/304761245.py:2: DeprecationWarning: executable_path has been deprecated, please pass in a Service object\n",
      "  driver = webdriver.Chrome(chrome_path)\n"
     ]
    }
   ],
   "source": [
    "chrome_path = chromedriver_autoinstaller.install()\n",
    "driver = webdriver.Chrome(chrome_path) \n",
    "url = 'https://fifaonline4.nexon.com/datacenter/squadmaker'\n",
    "driver.get(url)"
   ]
  },
  {
   "cell_type": "code",
   "execution_count": 16,
   "id": "e475316b",
   "metadata": {},
   "outputs": [],
   "source": [
    "login_btn = driver.find_element(By.CSS_SELECTOR,'body > div.gnbWrapper.gnbSizeL > div.gnbBar > div.gnbBarRight > div.gnbLogin').click()\n",
    "alert = driver.switch_to.alert \n",
    "alert.accept() # 경고창 뜨는 거 방지\n",
    "\n",
    "ID_input = driver.find_element(By.CSS_SELECTOR,'#txtNexonID').send_keys('khpoptop@gmail.com')\n",
    "pwd_input = driver.find_element(By.CSS_SELECTOR,'#txtPWD').send_keys('jimkwon950615')\n",
    "time.sleep(1)\n",
    "click_loginbtn = driver.find_element(By.CSS_SELECTOR,'#nexonLogin > fieldset > div.btLogin > button').click()"
   ]
  },
  {
   "cell_type": "markdown",
   "id": "c638f009",
   "metadata": {},
   "source": [
    "### 포지션 정하기\n",
    "> PlayersData 상에 있는 포지션\n",
    "\n",
    "1. LS,RS,ST,LF,RF,CF -> PlayersData의 ST,CF에서 검색\n",
    "    - Forward\n",
    "2. LW,RW,LM,RM,LAM,RAM -> PlayersData의 LW,RW,LM,RM에서 검색\n",
    "    - Winger\n",
    "3. CAM -> PlayersData의 CAM에서 검색\n",
    "    - Attack_mid\n",
    "4. LCM,RCM,CM -> PlayersData의 CM,CAM에서 검색\n",
    "    - Central_mid\n",
    "5. LDM,RDM,DM -> PlayersData의 CDM,CM에서 검색\n",
    "    - Defend_mid\n",
    "6. LB,LWB -> PlayersData의 LB,LWB에서 검색\n",
    "    - Leftback\n",
    "7. RB,RWB -> PlayersData의 RB,RWB에서 검색\n",
    "    - Rightback\n",
    "8. LCB,RCB,CB -> PlayersData의 CB에서 검색\n",
    "    - Centerback\n",
    "9. GK는 GK에서 검색\n",
    "    - Goalkeeper"
   ]
  },
  {
   "cell_type": "code",
   "execution_count": 17,
   "id": "7db091a5",
   "metadata": {},
   "outputs": [],
   "source": [
    "\"\"\"def sort_position():\n",
    "    PlayersData_sorted=[]\n",
    "    for playersdata in PlayersData_list: # 선수 데이터 리스트\n",
    "        if position_name=='LS' or position_name=='RS' or position_name=='ST' or position_name=='LF' or position_name=='RF' or position_name=='CF':\n",
    "            if playersdata[0]=='ST' or playersdata[0]=='CF':\n",
    "                PlayersData_sorted.append(playersdata)\n",
    "        elif position_name=='LW' or position_name=='RW' or position_name=='LM' or position_name=='RM' or position_name=='LAM' or position_name=='RAM':\n",
    "            if playersdata[0]=='LW' or playersdata[0]=='RW' or playersdata[0]=='LM' or playersdata[0]=='RM':\n",
    "                PlayersData_sorted.append(playersdata)\n",
    "        elif position_name=='CAM':\n",
    "            if playersdata[0]=='CAM':\n",
    "                PlayersData_sorted.append(playersdata)\n",
    "        elif position_name == 'LCM' or position_name=='RCM' or position_name=='CM':\n",
    "            if playersdata[0]=='CM' or playersdata[0]=='CAM':\n",
    "                PlayersData_sorted.append(playersdata)\n",
    "        elif position_name=='LDM' or position_name=='RDM' or position_name=='CDM':\n",
    "            if playersdata[0]=='CDM' or playersdata[0]=='CM':\n",
    "                PlayersData_sorted.append(playersdata)\n",
    "        elif position_name=='LB' or position_name=='LWB':\n",
    "            if playersdata[0]=='LB' or playersdata[0]=='LWB':\n",
    "                PlayersData_sorted.append(playersdata)\n",
    "        elif position_name=='RB' or position_name=='RWB':\n",
    "            if playersdata[0]=='RB' or playersdata[0]=='RWB':\n",
    "                PlayersData_sorted.append(playersdata)\n",
    "        elif position_name=='LCB' or position_name=='RCB' or position_name=='CB':\n",
    "            if playersdata[0]=='CB':\n",
    "                PlayersData_sorted.append(playersdata)\n",
    "        elif position_name=='GK':\n",
    "            if playersdata[0]=='GK':\n",
    "                PlayersData_sorted.append(playersdata)\n",
    "        else:\n",
    "            continue\"\"\""
   ]
  },
  {
   "cell_type": "code",
   "execution_count": 45,
   "id": "f7908ba5",
   "metadata": {},
   "outputs": [],
   "source": [
    "def choose_player():   \n",
    "    for player in PlayersData_sorted:\n",
    "        player_input = driver.find_element(By.CSS_SELECTOR,'#searchName').send_keys(player[1])\n",
    "        time.sleep(1)\n",
    "        player_searchbtn = driver.find_element(By.CSS_SELECTOR,'#squadSearchPlayerBtn').click()\n",
    "        time.sleep(2)\n",
    "        search_result = driver.find_elements(By.CSS_SELECTOR,'#ulPlayerList > li > div > div.info_top > div.name') # 검색 결과\n",
    "        #checked = driver.find_element(By.XPATH,'//*[@id=\"checkbox1\"]').get_attribute('checked') # 스쿼드에 미리 포함되어있는지 확인\n",
    "        if len(search_result)==0 or driver.find_element(By.XPATH,'//*[@id=\"checkbox1\"]').get_attribute('checked')=='true':\n",
    "            continue\n",
    "        else:\n",
    "            player_name = driver.find_elements(By.CSS_SELECTOR,'#ulPlayerList > li > div > div.info_top > div.name')[0].text\n",
    "            player_searched = driver.find_elements(By.CSS_SELECTOR,'#ulPlayerList > li') # 검색한 선수 목록\n",
    "            for k in range(len(player_searched)):\n",
    "                divTag = driver.find_element(By.CSS_SELECTOR,'#ulPlayerList > li.player.player'+str(k)+' > div > div.info_top > div.season > img')\n",
    "                src = divTag.get_attribute('src')\n",
    "                regex = re.compile('{}(.*){}'.format(re.escape('season/'), re.escape('.png')))\n",
    "                player_season = regex.findall(str(src))[0]\n",
    "                if player_season!=player[2]:\n",
    "                    continue\n",
    "                else:\n",
    "                # for i in range(len(player_searched)):\n",
    "                    if player[1]==player_name:\n",
    "                        player_searched[k].click()\n",
    "                        time.sleep(2)\n",
    "                        break\n",
    "                    else:\n",
    "                        continue\n",
    "                    break\n",
    "        \n",
    "        break\n",
    "            \n",
    "                "
   ]
  },
  {
   "cell_type": "code",
   "execution_count": 40,
   "id": "ff7bd07e",
   "metadata": {},
   "outputs": [
    {
     "name": "stdout",
     "output_type": "stream",
     "text": [
      "ICON\n",
      "LN\n",
      "LH\n",
      "HOT\n",
      "TKI\n",
      "TT\n",
      "NHD\n"
     ]
    },
    {
     "data": {
      "text/plain": [
       "'#ulPlayerList > li.player.player1.st > div.player_info > div.info_top > div.season'"
      ]
     },
     "execution_count": 40,
     "metadata": {},
     "output_type": "execute_result"
    }
   ],
   "source": [
    "player_name = driver.find_elements(By.CSS_SELECTOR,'#ulPlayerList > li > div > div.info_top > div.name')[0].text\n",
    "player_searched = driver.find_elements(By.CSS_SELECTOR,'#ulPlayerList > li')\n",
    "for k in range(len(player_searched)):\n",
    "    divTag = driver.find_element(By.CSS_SELECTOR,'#ulPlayerList > li.player.player'+str(k)+' > div > div.info_top > div.season > img')\n",
    "    src = divTag.get_attribute('src')\n",
    "    regex = re.compile('{}(.*){}'.format(re.escape('season/'), re.escape('.png')))\n",
    "    player_season = regex.findall(str(src))[0]\n",
    "    print(player_season)\n",
    "\n",
    "'#ulPlayerList > li.player.player2.cf'\n",
    "'#ulPlayerList > li.player.player1.st > div.player_info > div.info_top > div.season'\n",
    "\n",
    "#print(player_name)\n",
    "#print(player_season)"
   ]
  },
  {
   "cell_type": "code",
   "execution_count": 49,
   "id": "a23c166b",
   "metadata": {},
   "outputs": [],
   "source": [
    "# 제작 중(Run 하면 안됨!)\n",
    "\n",
    "wrap_teamcolor = '#squadSearchform1 > div > div.search_form > div > div.search_input_detail > div.search_input_detail_teamcolor'\n",
    "club_teamcolor = ' div > ul > li:nth-child(2)'\n",
    "nation_teamcolor = 'div > ul > li:nth-child(3)'\n",
    "\n",
    "for team_color in team_color_top4: # 상위 4개 팀컬러 중에서 순차적으로 선택\n",
    "    for j in range(11,0,-1):\n",
    "        position_name = driver.find_element(By.CSS_SELECTOR,'#formationPlayer'+str(j)+' > span > span.info > span.position').text\n",
    "        PlayersData_sorted=[]\n",
    "        for playersdata in PlayersData_list: # 선수 데이터 리스트\n",
    "            if position_name=='LS' or position_name=='RS' or position_name=='ST' or position_name=='LF' or position_name=='RF' or position_name=='CF':\n",
    "                if playersdata[0]=='ST' or playersdata[0]=='CF':\n",
    "                    PlayersData_sorted.append(playersdata)\n",
    "            elif position_name=='LW' or position_name=='RW' or position_name=='LM' or position_name=='RM' or position_name=='LAM' or position_name=='RAM':\n",
    "                if playersdata[0]=='LW' or playersdata[0]=='RW' or playersdata[0]=='LM' or playersdata[0]=='RM':\n",
    "                    PlayersData_sorted.append(playersdata)\n",
    "            elif position_name=='CAM':\n",
    "                if playersdata[0]=='CAM':\n",
    "                    PlayersData_sorted.append(playersdata)\n",
    "            elif position_name == 'LCM' or position_name=='RCM' or position_name=='CM':\n",
    "                if playersdata[0]=='CM' or playersdata[0]=='CAM':\n",
    "                    PlayersData_sorted.append(playersdata)\n",
    "            elif position_name=='LDM' or position_name=='RDM' or position_name=='CDM':\n",
    "                if playersdata[0]=='CDM' or playersdata[0]=='CM':\n",
    "                    PlayersData_sorted.append(playersdata)\n",
    "            elif position_name=='LB' or position_name=='LWB':\n",
    "                if playersdata[0]=='LB' or playersdata[0]=='LWB':\n",
    "                    PlayersData_sorted.append(playersdata)\n",
    "            elif position_name=='RB' or position_name=='RWB':\n",
    "                if playersdata[0]=='RB' or playersdata[0]=='RWB':\n",
    "                    PlayersData_sorted.append(playersdata)\n",
    "            elif position_name=='LCB' or position_name=='RCB' or position_name=='CB':\n",
    "                if playersdata[0]=='CB':\n",
    "                    PlayersData_sorted.append(playersdata)\n",
    "            elif position_name=='GK':\n",
    "                if playersdata[0]=='GK':\n",
    "                    PlayersData_sorted.append(playersdata)\n",
    "            else:\n",
    "                continue\n",
    "        squad = driver.find_element(By.CSS_SELECTOR,'#formationPlayer'+str(j)+'> span > span.animate') \n",
    "        squad.click() # 스쿼드 십자 모양 클릭\n",
    "        time.sleep(2)\n",
    "        search_teamcolor = driver.find_element(By.CSS_SELECTOR, wrap_teamcolor+'>div.wrap_teamcolor')\n",
    "        if team_color not in total_ClubColorList: # 클럽 팀 컬러에 없다면 국가 팀 컬러이다\n",
    "            search_teamcolor.click()\n",
    "            time.sleep(2)\n",
    "            nation_searching = search_teamcolor.find_element(By.CSS_SELECTOR,nation_teamcolor)\n",
    "            nation_searching.click()\n",
    "            time.sleep(2)\n",
    "            nation_colorlists = driver.find_elements(By.CSS_SELECTOR, wrap_teamcolor+'> div.wrap_teamcolorlist > div > ul > li')\n",
    "            for nation in nation_colorlists:\n",
    "                if nation.text==team_color:\n",
    "                    nation.click()\n",
    "                    time.sleep(2)\n",
    "                    choose_player()\n",
    "                else:\n",
    "                    continue\n",
    "                break\n",
    "        else:\n",
    "            search_teamcolor.click()\n",
    "            time.sleep(2)\n",
    "            club_searching = search_teamcolor.find_element(By.CSS_SELECTOR,club_teamcolor)\n",
    "            club_searching.click()\n",
    "            time.sleep(2)\n",
    "            club_colorlists = driver.find_elements(By.CSS_SELECTOR, wrap_teamcolor+'> div.wrap_teamcolorlist > div > ul > li')\n",
    "            for club in club_colorlists:\n",
    "                if club.text==team_color:\n",
    "                    club.click()\n",
    "                    time.sleep(2)\n",
    "                    choose_player()\n",
    "                else:\n",
    "                    continue\n",
    "                break\n",
    "        time.sleep(1)\n",
    "    current_formation = driver.find_element(By.CSS_SELECTOR,'#squadMaker > div > div.squadmaker__utils > div.squadmaker__utils__aside__selector.squadmaker-selector > a').text\n",
    "    save_squad_naming = driver.find_element(By.CSS_SELECTOR,'#squadSaveName').send_keys(team_color+current_formation)\n",
    "    save_squad_btn = driver.find_element(By.CSS_SELECTOR,'#middle > div > div > div.squad__wrap > div.squad__header-utils > div.squad-save-panel > div.squad-save-name-submit > button.squad-save-panel__btn-save').click()\n",
    "    alert.accept()"
   ]
  },
  {
   "cell_type": "code",
   "execution_count": null,
   "id": "9a8d8635",
   "metadata": {},
   "outputs": [],
   "source": []
  },
  {
   "cell_type": "code",
   "execution_count": null,
   "id": "bd1fb34f",
   "metadata": {},
   "outputs": [],
   "source": []
  },
  {
   "cell_type": "code",
   "execution_count": 55,
   "id": "d5991399",
   "metadata": {},
   "outputs": [
    {
     "ename": "NoSuchElementException",
     "evalue": "Message: no such element: Unable to locate element: {\"method\":\"css selector\",\"selector\":\"#formationPlayer1 > div > div.info.ui-draggable-handle > div.info_utils > a.btn_del\"}\n  (Session info: chrome=105.0.5195.127)\nStacktrace:\nBacktrace:\n\tOrdinal0 [0x00A9C0A3+2212003]\n\tOrdinal0 [0x00A32CC1+1780929]\n\tOrdinal0 [0x0094465D+804445]\n\tOrdinal0 [0x00973475+996469]\n\tOrdinal0 [0x0097363B+996923]\n\tOrdinal0 [0x009A1382+1184642]\n\tOrdinal0 [0x0098EC64+1109092]\n\tOrdinal0 [0x0099F5B2+1177010]\n\tOrdinal0 [0x0098EA36+1108534]\n\tOrdinal0 [0x009683C9+951241]\n\tOrdinal0 [0x00969396+955286]\n\tGetHandleVerifier [0x00D49CE2+2746722]\n\tGetHandleVerifier [0x00D3A234+2682548]\n\tGetHandleVerifier [0x00B2B34A+524234]\n\tGetHandleVerifier [0x00B29B60+518112]\n\tOrdinal0 [0x00A39FBC+1810364]\n\tOrdinal0 [0x00A3EA28+1829416]\n\tOrdinal0 [0x00A3EB15+1829653]\n\tOrdinal0 [0x00A48744+1869636]\n\tBaseThreadInitThunk [0x76DEFA29+25]\n\tRtlGetAppContainerNamedObjectPath [0x77A17B5E+286]\n\tRtlGetAppContainerNamedObjectPath [0x77A17B2E+238]\n",
     "output_type": "error",
     "traceback": [
      "\u001b[1;31m---------------------------------------------------------------------------\u001b[0m",
      "\u001b[1;31mNoSuchElementException\u001b[0m                    Traceback (most recent call last)",
      "\u001b[1;32m~\\AppData\\Local\\Temp/ipykernel_8552/983469630.py\u001b[0m in \u001b[0;36m<module>\u001b[1;34m\u001b[0m\n\u001b[0;32m    101\u001b[0m                 \u001b[0malert\u001b[0m\u001b[1;33m.\u001b[0m\u001b[0maccept\u001b[0m\u001b[1;33m(\u001b[0m\u001b[1;33m)\u001b[0m\u001b[1;33m\u001b[0m\u001b[1;33m\u001b[0m\u001b[0m\n\u001b[0;32m    102\u001b[0m                 \u001b[1;32mfor\u001b[0m \u001b[0md\u001b[0m \u001b[1;32min\u001b[0m \u001b[0mrange\u001b[0m\u001b[1;33m(\u001b[0m\u001b[1;36m11\u001b[0m\u001b[1;33m,\u001b[0m\u001b[1;36m0\u001b[0m\u001b[1;33m,\u001b[0m\u001b[1;33m-\u001b[0m\u001b[1;36m1\u001b[0m\u001b[1;33m)\u001b[0m\u001b[1;33m:\u001b[0m\u001b[1;33m\u001b[0m\u001b[1;33m\u001b[0m\u001b[0m\n\u001b[1;32m--> 103\u001b[1;33m                     \u001b[0mdel_players\u001b[0m \u001b[1;33m=\u001b[0m \u001b[0mdriver\u001b[0m\u001b[1;33m.\u001b[0m\u001b[0mfind_element\u001b[0m\u001b[1;33m(\u001b[0m\u001b[0mBy\u001b[0m\u001b[1;33m.\u001b[0m\u001b[0mCSS_SELECTOR\u001b[0m\u001b[1;33m,\u001b[0m\u001b[1;34m'#formationPlayer'\u001b[0m\u001b[1;33m+\u001b[0m\u001b[0mstr\u001b[0m\u001b[1;33m(\u001b[0m\u001b[0md\u001b[0m\u001b[1;33m)\u001b[0m\u001b[1;33m+\u001b[0m\u001b[1;34m' > div > div.info.ui-draggable-handle > div.info_utils > a.btn_del'\u001b[0m\u001b[1;33m)\u001b[0m\u001b[1;33m.\u001b[0m\u001b[0mclick\u001b[0m\u001b[1;33m(\u001b[0m\u001b[1;33m)\u001b[0m\u001b[1;33m\u001b[0m\u001b[1;33m\u001b[0m\u001b[0m\n\u001b[0m\u001b[0;32m    104\u001b[0m \u001b[1;33m\u001b[0m\u001b[0m\n",
      "\u001b[1;32m~\\anaconda3\\lib\\site-packages\\selenium\\webdriver\\remote\\webdriver.py\u001b[0m in \u001b[0;36mfind_element\u001b[1;34m(self, by, value)\u001b[0m\n\u001b[0;32m    853\u001b[0m             \u001b[0mvalue\u001b[0m \u001b[1;33m=\u001b[0m \u001b[1;34m'[name=\"%s\"]'\u001b[0m \u001b[1;33m%\u001b[0m \u001b[0mvalue\u001b[0m\u001b[1;33m\u001b[0m\u001b[1;33m\u001b[0m\u001b[0m\n\u001b[0;32m    854\u001b[0m \u001b[1;33m\u001b[0m\u001b[0m\n\u001b[1;32m--> 855\u001b[1;33m         return self.execute(Command.FIND_ELEMENT, {\n\u001b[0m\u001b[0;32m    856\u001b[0m             \u001b[1;34m'using'\u001b[0m\u001b[1;33m:\u001b[0m \u001b[0mby\u001b[0m\u001b[1;33m,\u001b[0m\u001b[1;33m\u001b[0m\u001b[1;33m\u001b[0m\u001b[0m\n\u001b[0;32m    857\u001b[0m             'value': value})['value']\n",
      "\u001b[1;32m~\\anaconda3\\lib\\site-packages\\selenium\\webdriver\\remote\\webdriver.py\u001b[0m in \u001b[0;36mexecute\u001b[1;34m(self, driver_command, params)\u001b[0m\n\u001b[0;32m    426\u001b[0m         \u001b[0mresponse\u001b[0m \u001b[1;33m=\u001b[0m \u001b[0mself\u001b[0m\u001b[1;33m.\u001b[0m\u001b[0mcommand_executor\u001b[0m\u001b[1;33m.\u001b[0m\u001b[0mexecute\u001b[0m\u001b[1;33m(\u001b[0m\u001b[0mdriver_command\u001b[0m\u001b[1;33m,\u001b[0m \u001b[0mparams\u001b[0m\u001b[1;33m)\u001b[0m\u001b[1;33m\u001b[0m\u001b[1;33m\u001b[0m\u001b[0m\n\u001b[0;32m    427\u001b[0m         \u001b[1;32mif\u001b[0m \u001b[0mresponse\u001b[0m\u001b[1;33m:\u001b[0m\u001b[1;33m\u001b[0m\u001b[1;33m\u001b[0m\u001b[0m\n\u001b[1;32m--> 428\u001b[1;33m             \u001b[0mself\u001b[0m\u001b[1;33m.\u001b[0m\u001b[0merror_handler\u001b[0m\u001b[1;33m.\u001b[0m\u001b[0mcheck_response\u001b[0m\u001b[1;33m(\u001b[0m\u001b[0mresponse\u001b[0m\u001b[1;33m)\u001b[0m\u001b[1;33m\u001b[0m\u001b[1;33m\u001b[0m\u001b[0m\n\u001b[0m\u001b[0;32m    429\u001b[0m             response['value'] = self._unwrap_value(\n\u001b[0;32m    430\u001b[0m                 response.get('value', None))\n",
      "\u001b[1;32m~\\anaconda3\\lib\\site-packages\\selenium\\webdriver\\remote\\errorhandler.py\u001b[0m in \u001b[0;36mcheck_response\u001b[1;34m(self, response)\u001b[0m\n\u001b[0;32m    241\u001b[0m                 \u001b[0malert_text\u001b[0m \u001b[1;33m=\u001b[0m \u001b[0mvalue\u001b[0m\u001b[1;33m[\u001b[0m\u001b[1;34m'alert'\u001b[0m\u001b[1;33m]\u001b[0m\u001b[1;33m.\u001b[0m\u001b[0mget\u001b[0m\u001b[1;33m(\u001b[0m\u001b[1;34m'text'\u001b[0m\u001b[1;33m)\u001b[0m\u001b[1;33m\u001b[0m\u001b[1;33m\u001b[0m\u001b[0m\n\u001b[0;32m    242\u001b[0m             \u001b[1;32mraise\u001b[0m \u001b[0mexception_class\u001b[0m\u001b[1;33m(\u001b[0m\u001b[0mmessage\u001b[0m\u001b[1;33m,\u001b[0m \u001b[0mscreen\u001b[0m\u001b[1;33m,\u001b[0m \u001b[0mstacktrace\u001b[0m\u001b[1;33m,\u001b[0m \u001b[0malert_text\u001b[0m\u001b[1;33m)\u001b[0m  \u001b[1;31m# type: ignore[call-arg]  # mypy is not smart enough here\u001b[0m\u001b[1;33m\u001b[0m\u001b[1;33m\u001b[0m\u001b[0m\n\u001b[1;32m--> 243\u001b[1;33m         \u001b[1;32mraise\u001b[0m \u001b[0mexception_class\u001b[0m\u001b[1;33m(\u001b[0m\u001b[0mmessage\u001b[0m\u001b[1;33m,\u001b[0m \u001b[0mscreen\u001b[0m\u001b[1;33m,\u001b[0m \u001b[0mstacktrace\u001b[0m\u001b[1;33m)\u001b[0m\u001b[1;33m\u001b[0m\u001b[1;33m\u001b[0m\u001b[0m\n\u001b[0m",
      "\u001b[1;31mNoSuchElementException\u001b[0m: Message: no such element: Unable to locate element: {\"method\":\"css selector\",\"selector\":\"#formationPlayer1 > div > div.info.ui-draggable-handle > div.info_utils > a.btn_del\"}\n  (Session info: chrome=105.0.5195.127)\nStacktrace:\nBacktrace:\n\tOrdinal0 [0x00A9C0A3+2212003]\n\tOrdinal0 [0x00A32CC1+1780929]\n\tOrdinal0 [0x0094465D+804445]\n\tOrdinal0 [0x00973475+996469]\n\tOrdinal0 [0x0097363B+996923]\n\tOrdinal0 [0x009A1382+1184642]\n\tOrdinal0 [0x0098EC64+1109092]\n\tOrdinal0 [0x0099F5B2+1177010]\n\tOrdinal0 [0x0098EA36+1108534]\n\tOrdinal0 [0x009683C9+951241]\n\tOrdinal0 [0x00969396+955286]\n\tGetHandleVerifier [0x00D49CE2+2746722]\n\tGetHandleVerifier [0x00D3A234+2682548]\n\tGetHandleVerifier [0x00B2B34A+524234]\n\tGetHandleVerifier [0x00B29B60+518112]\n\tOrdinal0 [0x00A39FBC+1810364]\n\tOrdinal0 [0x00A3EA28+1829416]\n\tOrdinal0 [0x00A3EB15+1829653]\n\tOrdinal0 [0x00A48744+1869636]\n\tBaseThreadInitThunk [0x76DEFA29+25]\n\tRtlGetAppContainerNamedObjectPath [0x77A17B5E+286]\n\tRtlGetAppContainerNamedObjectPath [0x77A17B2E+238]\n"
     ]
    }
   ],
   "source": [
    "# 실행부분\n",
    "\n",
    "column_len = driver.find_elements(By.CSS_SELECTOR,'div > div.squadmaker-selector__list__contents > div.squadmaker-selector__list.active > div.squadmaker-selector__list__total>div')\n",
    "index_len = column_len[0].find_elements(By.CSS_SELECTOR,'ul > li > a')\n",
    "\n",
    "# print(len(column_len))\n",
    "# print(len(index_len))\n",
    "\n",
    "formation_btn = driver.find_element(By.CSS_SELECTOR,'#squadMaker > div > div.squadmaker__utils > div.squadmaker__utils__aside__selector')\n",
    "for i in range(1,len(column_len)+1):\n",
    "    index_len = column_len[i-1].find_elements(By.CSS_SELECTOR,'ul > li > a')\n",
    "    for j in range(1,len(index_len)+1):\n",
    "        time.sleep(2)\n",
    "        formation_btn.click()\n",
    "        time.sleep(2)\n",
    "        formae = formation_btn.find_element(By.CSS_SELECTOR,'div > div.squadmaker-selector__list__contents > div.squadmaker-selector__list.active > div.squadmaker-selector__list__total > div:nth-child('+str(i)+') > ul > li:nth-child('+str(j)+') > a')\n",
    "        # print(formae)\n",
    "        if formae.text not in formation_top6: # 지정한 상위 6개 포메이션인지 확인\n",
    "            continue\n",
    "        else:    \n",
    "            time.sleep(2)\n",
    "            formae.click()\n",
    "            time.sleep(2)\n",
    "            wrap_teamcolor = '#squadSearchform1 > div > div.search_form > div > div.search_input_detail > div.search_input_detail_teamcolor'\n",
    "            club_teamcolor = ' div > ul > li:nth-child(2)'\n",
    "            nation_teamcolor = 'div > ul > li:nth-child(3)'\n",
    "\n",
    "            for team_color in team_color_top4: # 상위 4개 팀컬러 중에서 순차적으로 선택\n",
    "                for j in range(11,0,-1):\n",
    "                    position_name = driver.find_element(By.CSS_SELECTOR,'#formationPlayer'+str(j)+' > span > span.info > span.position').text\n",
    "                    PlayersData_sorted=[]\n",
    "                    for playersdata in PlayersData_list: # 선수 데이터 리스트\n",
    "                        if position_name=='LS' or position_name=='RS' or position_name=='ST' or position_name=='LF' or position_name=='RF' or position_name=='CF':\n",
    "                            if playersdata[0]=='ST' or playersdata[0]=='CF':\n",
    "                                PlayersData_sorted.append(playersdata)\n",
    "                        elif position_name=='LW' or position_name=='RW' or position_name=='LM' or position_name=='RM' or position_name=='LAM' or position_name=='RAM':\n",
    "                            if playersdata[0]=='LW' or playersdata[0]=='RW' or playersdata[0]=='LM' or playersdata[0]=='RM':\n",
    "                                PlayersData_sorted.append(playersdata)\n",
    "                        elif position_name=='CAM':\n",
    "                            if playersdata[0]=='CAM':\n",
    "                                PlayersData_sorted.append(playersdata)\n",
    "                        elif position_name == 'LCM' or position_name=='RCM' or position_name=='CM':\n",
    "                            if playersdata[0]=='CM' or playersdata[0]=='CAM':\n",
    "                                PlayersData_sorted.append(playersdata)\n",
    "                        elif position_name=='LDM' or position_name=='RDM' or position_name=='CDM':\n",
    "                            if playersdata[0]=='CDM' or playersdata[0]=='CM':\n",
    "                                PlayersData_sorted.append(playersdata)\n",
    "                        elif position_name=='LB' or position_name=='LWB':\n",
    "                            if playersdata[0]=='LB' or playersdata[0]=='LWB':\n",
    "                                PlayersData_sorted.append(playersdata)\n",
    "                        elif position_name=='RB' or position_name=='RWB':\n",
    "                            if playersdata[0]=='RB' or playersdata[0]=='RWB':\n",
    "                                PlayersData_sorted.append(playersdata)\n",
    "                        elif position_name=='LCB' or position_name=='RCB' or position_name=='CB':\n",
    "                            if playersdata[0]=='CB':\n",
    "                                PlayersData_sorted.append(playersdata)\n",
    "                        elif position_name=='GK':\n",
    "                            if playersdata[0]=='GK':\n",
    "                                PlayersData_sorted.append(playersdata)\n",
    "                        else:\n",
    "                            continue\n",
    "                    squad = driver.find_element(By.CSS_SELECTOR,'#formationPlayer'+str(j)+'> span > span.animate') \n",
    "                    squad.click() # 스쿼드 십자 모양 클릭\n",
    "                    time.sleep(2)\n",
    "                    search_teamcolor = driver.find_element(By.CSS_SELECTOR, wrap_teamcolor+'>div.wrap_teamcolor')\n",
    "                    if team_color not in total_ClubColorList: # 클럽 팀 컬러에 없다면 국가 팀 컬러이다\n",
    "                        search_teamcolor.click()\n",
    "                        time.sleep(2)\n",
    "                        nation_searching = search_teamcolor.find_element(By.CSS_SELECTOR,nation_teamcolor)\n",
    "                        nation_searching.click()\n",
    "                        time.sleep(2)\n",
    "                        nation_colorlists = driver.find_elements(By.CSS_SELECTOR, wrap_teamcolor+'> div.wrap_teamcolorlist > div > ul > li')\n",
    "                        for nation in nation_colorlists:\n",
    "                            if nation.text==team_color:\n",
    "                                nation.click()\n",
    "                                time.sleep(2)\n",
    "                                choose_player()\n",
    "                            else:\n",
    "                                continue\n",
    "                            break\n",
    "                    else:\n",
    "                        search_teamcolor.click()\n",
    "                        time.sleep(2)\n",
    "                        club_searching = search_teamcolor.find_element(By.CSS_SELECTOR,club_teamcolor)\n",
    "                        club_searching.click()\n",
    "                        time.sleep(2)\n",
    "                        club_colorlists = driver.find_elements(By.CSS_SELECTOR, wrap_teamcolor+'> div.wrap_teamcolorlist > div > ul > li')\n",
    "                        for club in club_colorlists:\n",
    "                            if club.text==team_color:\n",
    "                                club.click()\n",
    "                                time.sleep(2)\n",
    "                                choose_player()\n",
    "                            else:\n",
    "                                continue\n",
    "                            break\n",
    "                    time.sleep(1)\n",
    "                current_formation = driver.find_element(By.CSS_SELECTOR,'#squadMaker > div > div.squadmaker__utils > div.squadmaker__utils__aside__selector.squadmaker-selector > a').text\n",
    "                save_squad_naming = driver.find_element(By.CSS_SELECTOR,'#squadSaveName').send_keys(team_color+current_formation)\n",
    "                save_squad_btn = driver.find_element(By.CSS_SELECTOR,'#middle > div > div > div.squad__wrap > div.squad__header-utils > div.squad-save-panel > div.squad-save-name-submit > button.squad-save-panel__btn-save').click()\n",
    "                time.sleep(3)\n",
    "                alert.accept()\n",
    "                for d in range(11,0,-1):\n",
    "                    del_players = driver.find_element(By.CSS_SELECTOR,'#formationPlayer'+str(d)+' > div > div.info.ui-draggable-handle > div.info_utils > a.btn_del').click()\n",
    "                    time.sleep(1)\n",
    "                    "
   ]
  },
  {
   "cell_type": "code",
   "execution_count": 56,
   "id": "ccb6aa2c",
   "metadata": {},
   "outputs": [],
   "source": [
    "driver.quit()"
   ]
  },
  {
   "cell_type": "code",
   "execution_count": null,
   "id": "8a9f83be",
   "metadata": {},
   "outputs": [],
   "source": []
  }
 ],
 "metadata": {
  "kernelspec": {
   "display_name": "Python 3 (ipykernel)",
   "language": "python",
   "name": "python3"
  },
  "language_info": {
   "codemirror_mode": {
    "name": "ipython",
    "version": 3
   },
   "file_extension": ".py",
   "mimetype": "text/x-python",
   "name": "python",
   "nbconvert_exporter": "python",
   "pygments_lexer": "ipython3",
   "version": "3.9.7"
  }
 },
 "nbformat": 4,
 "nbformat_minor": 5
}
