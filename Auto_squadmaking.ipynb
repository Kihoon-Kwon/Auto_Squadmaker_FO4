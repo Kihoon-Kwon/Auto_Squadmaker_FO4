{
 "cells": [
  {
   "cell_type": "markdown",
   "id": "aefc8c35",
   "metadata": {},
   "source": [
    "# 데일리차트 접속 후 인기 포메이션, 인기 팀 컬러 조사하기"
   ]
  },
  {
   "cell_type": "code",
   "execution_count": 1,
   "id": "59cf54be",
   "metadata": {},
   "outputs": [
    {
     "name": "stderr",
     "output_type": "stream",
     "text": [
      "C:\\Users\\user\\AppData\\Local\\Temp/ipykernel_16460/2310303632.py:14: DeprecationWarning: executable_path has been deprecated, please pass in a Service object\n",
      "  driver = webdriver.Chrome(chrome_path)\n"
     ]
    }
   ],
   "source": [
    "from selenium import webdriver\n",
    "from selenium.webdriver.common.by import By\n",
    "from selenium.webdriver.common.action_chains import ActionChains\n",
    "import chromedriver_autoinstaller\n",
    "import sys\n",
    "import os\n",
    "import re\n",
    "import requests\n",
    "import pandas as pd\n",
    "import numpy as np\n",
    "import time\n",
    "\n",
    "chrome_path = chromedriver_autoinstaller.install()\n",
    "driver = webdriver.Chrome(chrome_path)\n",
    "url = 'https://fifaonline4.nexon.com/datacenter/dailysquad'\n",
    "driver.get(url)\n",
    "response = requests.get(url)\n",
    "html = response.text"
   ]
  },
  {
   "cell_type": "code",
   "execution_count": 2,
   "id": "983a8afc",
   "metadata": {},
   "outputs": [
    {
     "data": {
      "text/plain": [
       "10"
      ]
     },
     "execution_count": 2,
     "metadata": {},
     "output_type": "execute_result"
    }
   ],
   "source": [
    "contents = driver.find_elements(By.CSS_SELECTOR,'#formationSwiper > div > div > div > div')\n",
    "len(contents)"
   ]
  },
  {
   "cell_type": "code",
   "execution_count": 3,
   "id": "fe84ad5f",
   "metadata": {},
   "outputs": [
    {
     "data": {
      "text/plain": [
       "'4-2-3-1'"
      ]
     },
     "execution_count": 3,
     "metadata": {},
     "output_type": "execute_result"
    }
   ],
   "source": [
    "contents[0].find_element(By.CSS_SELECTOR,'div.txt').text # 잘 나오는 것 확인"
   ]
  },
  {
   "cell_type": "code",
   "execution_count": 4,
   "id": "cac8bd06",
   "metadata": {},
   "outputs": [
    {
     "name": "stdout",
     "output_type": "stream",
     "text": [
      "['4-2-3-1', '4-2-2-1-1', '5-2-3', '4-2-2-2', '4-2-1-3', '5-2-1-2']\n"
     ]
    }
   ],
   "source": [
    "formation = []\n",
    "for content in contents:\n",
    "    formae = content.find_element(By.CSS_SELECTOR,'div.txt').text\n",
    "    formation.append(formae)\n",
    "    \n",
    "formation_top6 = formation[:6] # 상위 6개 포메이션 선정\n",
    "print(formation_top6)"
   ]
  },
  {
   "cell_type": "code",
   "execution_count": 5,
   "id": "8ab13018",
   "metadata": {},
   "outputs": [],
   "source": [
    "formation_top4 = ['4-2-3-1','5-2-3','4-1-2-3','5-2-1-2'] # 시스템 구현 시엔 이 리스트를 사용할 예정"
   ]
  },
  {
   "cell_type": "code",
   "execution_count": 6,
   "id": "403946ec",
   "metadata": {},
   "outputs": [
    {
     "name": "stdout",
     "output_type": "stream",
     "text": [
      "10\n"
     ]
    }
   ],
   "source": [
    "teams = driver.find_elements(By.CSS_SELECTOR,'#divTeamColorInfo > div')\n",
    "print(len(teams))"
   ]
  },
  {
   "cell_type": "code",
   "execution_count": 7,
   "id": "5863f8b6",
   "metadata": {},
   "outputs": [
    {
     "name": "stdout",
     "output_type": "stream",
     "text": [
      "첼시\n"
     ]
    }
   ],
   "source": [
    "print(teams[0].find_element(By.CSS_SELECTOR,'div.txt').text)"
   ]
  },
  {
   "cell_type": "code",
   "execution_count": 8,
   "id": "d7711daf",
   "metadata": {},
   "outputs": [
    {
     "name": "stdout",
     "output_type": "stream",
     "text": [
      "['첼시', '대한민국', '레알 마드리드', '바이에른 뮌헨']\n"
     ]
    }
   ],
   "source": [
    "team_color=[]\n",
    "\n",
    "for team in teams:\n",
    "    tc = team.find_element(By.CSS_SELECTOR,'div.txt').text\n",
    "    team_color.append(tc)\n",
    "    \n",
    "team_color_top4 = team_color[:4] # 상위 4개 팀컬러 선정\n",
    "print(team_color_top4)"
   ]
  },
  {
   "cell_type": "code",
   "execution_count": 9,
   "id": "cc402e23",
   "metadata": {},
   "outputs": [],
   "source": [
    "team_color_top2 = ['대한민국','바이에른 뮌헨'] # 실제 시스템 구현 시 이 리스트 사용 예정, 시간 단축 목적"
   ]
  },
  {
   "cell_type": "code",
   "execution_count": 10,
   "id": "9e31c0e7",
   "metadata": {},
   "outputs": [],
   "source": [
    "driver.quit()"
   ]
  },
  {
   "cell_type": "code",
   "execution_count": 11,
   "id": "35f5b29c",
   "metadata": {},
   "outputs": [],
   "source": [
    "PlayersData = pd.read_csv(\"./players_data/players_data.csv\",encoding='cp949') # 추출한 선수 명단 데이터를 불러온다."
   ]
  },
  {
   "cell_type": "code",
   "execution_count": 12,
   "id": "b43f2da7",
   "metadata": {},
   "outputs": [
    {
     "data": {
      "text/html": [
       "<div>\n",
       "<style scoped>\n",
       "    .dataframe tbody tr th:only-of-type {\n",
       "        vertical-align: middle;\n",
       "    }\n",
       "\n",
       "    .dataframe tbody tr th {\n",
       "        vertical-align: top;\n",
       "    }\n",
       "\n",
       "    .dataframe thead th {\n",
       "        text-align: right;\n",
       "    }\n",
       "</style>\n",
       "<table border=\"1\" class=\"dataframe\">\n",
       "  <thead>\n",
       "    <tr style=\"text-align: right;\">\n",
       "      <th></th>\n",
       "      <th>포지션</th>\n",
       "      <th>이름</th>\n",
       "      <th>클래스</th>\n",
       "    </tr>\n",
       "  </thead>\n",
       "  <tbody>\n",
       "    <tr>\n",
       "      <th>0</th>\n",
       "      <td>ST</td>\n",
       "      <td>박주영</td>\n",
       "      <td>2012KH</td>\n",
       "    </tr>\n",
       "    <tr>\n",
       "      <th>1</th>\n",
       "      <td>ST</td>\n",
       "      <td>R. 레반도프스키</td>\n",
       "      <td>22TOTY</td>\n",
       "    </tr>\n",
       "    <tr>\n",
       "      <th>2</th>\n",
       "      <td>ST</td>\n",
       "      <td>크리스티아누 호날두</td>\n",
       "      <td>22TOTS</td>\n",
       "    </tr>\n",
       "    <tr>\n",
       "      <th>3</th>\n",
       "      <td>ST</td>\n",
       "      <td>호나우두</td>\n",
       "      <td>MC</td>\n",
       "    </tr>\n",
       "    <tr>\n",
       "      <th>4</th>\n",
       "      <td>ST</td>\n",
       "      <td>크리스티아누 호날두</td>\n",
       "      <td>21TOTY</td>\n",
       "    </tr>\n",
       "    <tr>\n",
       "      <th>...</th>\n",
       "      <td>...</td>\n",
       "      <td>...</td>\n",
       "      <td>...</td>\n",
       "    </tr>\n",
       "    <tr>\n",
       "      <th>235</th>\n",
       "      <td>GK</td>\n",
       "      <td>에우통 레이치</td>\n",
       "      <td>21UCL</td>\n",
       "    </tr>\n",
       "    <tr>\n",
       "      <th>236</th>\n",
       "      <td>GK</td>\n",
       "      <td>닉 포프</td>\n",
       "      <td>LIVE</td>\n",
       "    </tr>\n",
       "    <tr>\n",
       "      <th>237</th>\n",
       "      <td>GK</td>\n",
       "      <td>조 하트</td>\n",
       "      <td>TC</td>\n",
       "    </tr>\n",
       "    <tr>\n",
       "      <th>238</th>\n",
       "      <td>GK</td>\n",
       "      <td>보이치에흐 슈체스니</td>\n",
       "      <td>EBS</td>\n",
       "    </tr>\n",
       "    <tr>\n",
       "      <th>239</th>\n",
       "      <td>GK</td>\n",
       "      <td>사미르 한다노비치</td>\n",
       "      <td>LIVE</td>\n",
       "    </tr>\n",
       "  </tbody>\n",
       "</table>\n",
       "<p>240 rows × 3 columns</p>\n",
       "</div>"
      ],
      "text/plain": [
       "    포지션          이름     클래스\n",
       "0    ST         박주영  2012KH\n",
       "1    ST   R. 레반도프스키  22TOTY\n",
       "2    ST  크리스티아누 호날두  22TOTS\n",
       "3    ST        호나우두      MC\n",
       "4    ST  크리스티아누 호날두  21TOTY\n",
       "..   ..         ...     ...\n",
       "235  GK     에우통 레이치   21UCL\n",
       "236  GK        닉 포프    LIVE\n",
       "237  GK        조 하트      TC\n",
       "238  GK  보이치에흐 슈체스니     EBS\n",
       "239  GK   사미르 한다노비치    LIVE\n",
       "\n",
       "[240 rows x 3 columns]"
      ]
     },
     "execution_count": 12,
     "metadata": {},
     "output_type": "execute_result"
    }
   ],
   "source": [
    "PlayersData"
   ]
  },
  {
   "cell_type": "code",
   "execution_count": 13,
   "id": "19c661bd",
   "metadata": {},
   "outputs": [
    {
     "name": "stdout",
     "output_type": "stream",
     "text": [
      "<class 'list'>\n",
      "[['CF', '차범근', 'LH'], ['CF', '세르주 그나브리', '21UCL'], ['CF', '카이 하베르츠', '21UCL'], ['CF', '손흥민', '22TOTY'], ['CF', '고정운', 'TKL'], ['CF', '이반 페리시치', '21UCL'], ['CF', '카림 벤제마', 'BOE21'], ['CF', '메이슨 마운트', '22TOTN'], ['CF', '호나우두', 'MC'], ['CF', '손흥민', '21TOTY'], ['CF', '카림 벤제마', '21UCL'], ['CF', '모하메드 살라', '22TOTS'], ['LW', '사디오 마네', '21UCL'], ['LW', '에덴 아자르', 'EBS'], ['LW', '고정운', 'TKL'], ['LW', '필 포든', '22TOTS'], ['LW', '차범근', 'LH'], ['LW', '비니시우스 주니어', '21UCL'], ['LW', '페드로', 'UP'], ['LW', '세르주 그나브리', '21UCL'], ['LW', '비니시우스 주니어', '21NG'], ['LW', '프랑크 리베리', 'VTR'], ['LW', '비니시우스 주니어', '22TOTS'], ['LW', '네이마르 Jr.', '22TOTN'], ['LW', '사디오 마네', 'MC'], ['LW', '필 포든', '22TOTN'], ['LW', '이반 페리시치', '21UCL'], ['LW', '나니', 'VTR'], ['RW', '차범근', 'LH'], ['RW', '세르주 그나브리', '21UCL']]\n"
     ]
    }
   ],
   "source": [
    "PlayersData_list = PlayersData.values.tolist()\n",
    "print(type(PlayersData_list))\n",
    "print(PlayersData_list[20:50])"
   ]
  },
  {
   "cell_type": "markdown",
   "id": "5381c7a1",
   "metadata": {},
   "source": [
    "# 스쿼드메이커를 이용한 자동 스쿼드 제작 시스템"
   ]
  },
  {
   "cell_type": "code",
   "execution_count": 14,
   "id": "883137c9",
   "metadata": {},
   "outputs": [
    {
     "name": "stderr",
     "output_type": "stream",
     "text": [
      "C:\\Users\\user\\AppData\\Local\\Temp/ipykernel_16460/304761245.py:2: DeprecationWarning: executable_path has been deprecated, please pass in a Service object\n",
      "  driver = webdriver.Chrome(chrome_path)\n"
     ]
    }
   ],
   "source": [
    "chrome_path = chromedriver_autoinstaller.install()\n",
    "driver = webdriver.Chrome(chrome_path) \n",
    "url = 'https://fifaonline4.nexon.com/datacenter/squadmaker'\n",
    "driver.get(url)"
   ]
  },
  {
   "cell_type": "markdown",
   "id": "09cff91a",
   "metadata": {},
   "source": [
    "## FO4 모든 클럽 팀컬러 리스트로 수집"
   ]
  },
  {
   "cell_type": "code",
   "execution_count": 15,
   "id": "ef66edea",
   "metadata": {},
   "outputs": [
    {
     "data": {
      "text/plain": [
       "['맨체스터 시티',\n",
       " '리버풀',\n",
       " '토트넘 홋스퍼',\n",
       " '첼시',\n",
       " '아스널',\n",
       " '맨체스터 유나이티드',\n",
       " '울버햄프턴 원더러스',\n",
       " '레스터 시티',\n",
       " '에버턴',\n",
       " '왓퍼드',\n",
       " '바이에른 뮌헨',\n",
       " '보루시아 도르트문트',\n",
       " 'RB 라이프치히',\n",
       " '아인트라흐트 프랑크푸르트',\n",
       " '바이엘 04 레버쿠젠',\n",
       " 'VfL 볼프스부르크',\n",
       " 'FC 바르셀로나',\n",
       " '아틀레티코 마드리드',\n",
       " '레알 마드리드',\n",
       " '발렌시아 CF']"
      ]
     },
     "execution_count": 15,
     "metadata": {},
     "output_type": "execute_result"
    }
   ],
   "source": [
    "squad = driver.find_element(By.CSS_SELECTOR,'#formationPlayer11')\n",
    "squad.click()\n",
    "time.sleep(2)\n",
    "wrap_teamcolor = '#squadSearchform1 > div > div.search_form > div > div.search_input_detail > div.search_input_detail_teamcolor'\n",
    "search_teamcolor = driver.find_element(By.CSS_SELECTOR, wrap_teamcolor+'>div.wrap_teamcolor')\n",
    "\n",
    "club_teamcolor = ' div > ul > li:nth-child(2)'\n",
    "search_teamcolor.click()\n",
    "time.sleep(2)\n",
    "club_searching = search_teamcolor.find_element(By.CSS_SELECTOR,club_teamcolor) # 클럽 선택\n",
    "club_searching.click()\n",
    "time.sleep(2)\n",
    "club_colorlists = driver.find_elements(By.CSS_SELECTOR, wrap_teamcolor+'> div.wrap_teamcolorlist > div > ul > li')\n",
    "\n",
    "\n",
    "total_ClubColorList = [] # 피온4에서 제공하는 모든 클럽 팀컬러, 찾고자 하는 팀컬러가 여기에 없으면 국가 팀컬러라고 전제한다.\n",
    "for c in range(len(club_colorlists)):\n",
    "    club = club_colorlists[c].text\n",
    "    total_ClubColorList.append(club)\n",
    "while '' in total_ClubColorList:\n",
    "    total_ClubColorList.remove('')\n",
    "total_ClubColorList = total_ClubColorList[1:]    \n",
    "\n",
    "total_ClubColorList[:20]"
   ]
  },
  {
   "cell_type": "code",
   "execution_count": 16,
   "id": "c594b34d",
   "metadata": {},
   "outputs": [],
   "source": [
    "driver.quit()"
   ]
  },
  {
   "cell_type": "markdown",
   "id": "42b88a0d",
   "metadata": {},
   "source": [
    "## 로그인 진행(스쿼드메이커 저장 작업 시 로그인이 되어있어야 함)"
   ]
  },
  {
   "cell_type": "code",
   "execution_count": 17,
   "id": "44c2edf1",
   "metadata": {},
   "outputs": [
    {
     "name": "stderr",
     "output_type": "stream",
     "text": [
      "C:\\Users\\user\\AppData\\Local\\Temp/ipykernel_16460/2129433919.py:2: DeprecationWarning: executable_path has been deprecated, please pass in a Service object\n",
      "  driver = webdriver.Chrome(chrome_path)\n"
     ]
    }
   ],
   "source": [
    "chrome_path = chromedriver_autoinstaller.install()\n",
    "driver = webdriver.Chrome(chrome_path) \n",
    "url = 'https://fifaonline4.nexon.com/datacenter/squadmaker'\n",
    "driver.get(url)\n",
    "time.sleep(2)\n",
    "driver.maximize_window()"
   ]
  },
  {
   "cell_type": "code",
   "execution_count": 18,
   "id": "e475316b",
   "metadata": {},
   "outputs": [
    {
     "name": "stdout",
     "output_type": "stream",
     "text": [
      "아이디를 입력하세요: khpoptop@gmail.com\n",
      "비밀번호를 입력하세요: ········\n"
     ]
    }
   ],
   "source": [
    "from getpass import getpass\n",
    "\n",
    "nexon_ID = input('아이디를 입력하세요: ')\n",
    "nexon_PW = getpass('비밀번호를 입력하세요: ')\n",
    "time.sleep(2)\n",
    "\n",
    "login_btn = driver.find_element(By.CSS_SELECTOR,'body > div.gnbWrapper.gnbSizeL > div.gnbBar > div.gnbBarRight > div.gnbLogin').click()\n",
    "time.sleep(2)\n",
    "alert = driver.switch_to.alert\n",
    "#time.sleep(2)\n",
    "alert.accept() # 경고창 뜨는 거 방지\n",
    "\n",
    "ID_input = driver.find_element(By.CSS_SELECTOR,'#txtNexonID').send_keys(nexon_ID) # 넥슨 개인 ID\n",
    "pwd_input = driver.find_element(By.CSS_SELECTOR,'#txtPWD').send_keys(nexon_PW) # 넥슨 개인 PW\n",
    "time.sleep(1)\n",
    "click_loginbtn = driver.find_element(By.CSS_SELECTOR,'#nexonLogin > fieldset > div.btLogin > button').click()"
   ]
  },
  {
   "cell_type": "markdown",
   "id": "c638f009",
   "metadata": {},
   "source": [
    "### 포지션 정하기\n",
    "> PlayersData 상에 있는 포지션\n",
    "\n",
    "1. LS,RS,ST,LF,RF,CF -> PlayersData의 ST,CF에서 검색\n",
    "    - Forward\n",
    "2. LW,RW,LM,RM,LAM,RAM -> PlayersData의 LW,RW,LM,RM에서 검색\n",
    "    - Winger\n",
    "3. CAM -> PlayersData의 CAM에서 검색\n",
    "    - Attack_mid\n",
    "4. LCM,RCM,CM -> PlayersData의 CM,CAM에서 검색\n",
    "    - Central_mid\n",
    "5. LDM,RDM,DM -> PlayersData의 CDM,CM에서 검색\n",
    "    - Defend_mid\n",
    "6. LB,LWB -> PlayersData의 LB,LWB에서 검색\n",
    "    - Leftback\n",
    "7. RB,RWB -> PlayersData의 RB,RWB에서 검색\n",
    "    - Rightback\n",
    "8. LCB,RCB,CB -> PlayersData의 CB에서 검색\n",
    "    - Centerback\n",
    "9. GK는 GK에서 검색\n",
    "    - Goalkeeper"
   ]
  },
  {
   "cell_type": "code",
   "execution_count": 19,
   "id": "c1c82a20",
   "metadata": {},
   "outputs": [],
   "source": [
    "driver.execute_script(\"window.scrollTo(0, 750)\") "
   ]
  },
  {
   "cell_type": "code",
   "execution_count": 20,
   "id": "f7908ba5",
   "metadata": {},
   "outputs": [],
   "source": [
    "def choose_player():   \n",
    "    for player in PlayersData_sorted:\n",
    "        player_input = driver.find_element(By.CSS_SELECTOR,'#searchName').send_keys(player[1])\n",
    "        time.sleep(1)\n",
    "        player_searchbtn = driver.find_element(By.CSS_SELECTOR,'#squadSearchPlayerBtn').click()\n",
    "        time.sleep(2)\n",
    "        search_result = driver.find_elements(By.CSS_SELECTOR,'#ulPlayerList > li > div > div.info_top > div.name') # 검색 결과\n",
    "        #checked = driver.find_element(By.XPATH,'//*[@id=\"checkbox1\"]').get_attribute('checked') # 스쿼드에 미리 포함되어있는지 확인\n",
    "        if len(search_result)==0 or driver.find_element(By.XPATH,'//*[@id=\"checkbox1\"]').get_attribute('checked')=='true':\n",
    "            continue\n",
    "        else:\n",
    "            player_name = driver.find_elements(By.CSS_SELECTOR,'#ulPlayerList > li > div > div.info_top > div.name')[0].text\n",
    "            player_searched = driver.find_elements(By.CSS_SELECTOR,'#ulPlayerList > li') # 검색한 선수 목록\n",
    "            for k in range(len(player_searched)):\n",
    "                divTag = driver.find_element(By.CSS_SELECTOR,'#ulPlayerList > li.player.player'+str(k)+' > div > div.info_top > div.season > img')\n",
    "                src = divTag.get_attribute('src')\n",
    "                regex = re.compile('{}(.*){}'.format(re.escape('season/'), re.escape('.png')))\n",
    "                player_season = regex.findall(str(src))[0]\n",
    "                if player_season!=player[2]:\n",
    "                    continue\n",
    "                else:\n",
    "                    if player[1]==player_name: # 시즌, 이름 모두 같으면 선수를 스쿼드에 포함\n",
    "                        player_searched[k].click()\n",
    "                        time.sleep(2)\n",
    "                        break\n",
    "                    else:\n",
    "                        continue\n",
    "                    break\n",
    "        if PlayersData_sorted[-1][1]!=player_name:\n",
    "            break\n",
    "        break            "
   ]
  },
  {
   "cell_type": "code",
   "execution_count": 21,
   "id": "78776209",
   "metadata": {},
   "outputs": [
    {
     "name": "stdout",
     "output_type": "stream",
     "text": [
      "column 1 complete\n",
      "column 2 complete\n",
      "column 3 complete\n",
      "column 4 complete\n",
      "column 5 complete\n",
      "column 6 complete\n",
      "column 7 complete\n",
      "3-4-1-2\n",
      "4-3-3\n"
     ]
    }
   ],
   "source": [
    "column_len = driver.find_elements(By.CSS_SELECTOR,'div > div.squadmaker-selector__list__contents > div.squadmaker-selector__list.active > div.squadmaker-selector__list__total>div')\n",
    "index_len = column_len[0].find_elements(By.CSS_SELECTOR,'ul > li > a')\n",
    "\n",
    "formation_btn = driver.find_element(By.CSS_SELECTOR,'#squadMaker > div > div.squadmaker__utils > div.squadmaker__utils__aside__selector')\n",
    "formation_total = [] # 셀레니움 형태로 저장, 내용 볼겨면 .text 붙혀서 확인\n",
    "formation_btn.click()\n",
    "for i in range(1,len(column_len)+1):\n",
    "    index_len = column_len[i-1].find_elements(By.CSS_SELECTOR,'ul > li > a')\n",
    "    for j in range(1,len(index_len)+1):\n",
    "        time.sleep(2)     \n",
    "        formae = driver.find_element(By.CSS_SELECTOR,'#squadMaker > div > div.squadmaker__utils > div.squadmaker__utils__aside__selector.squadmaker-selector.active > div > div.squadmaker-selector__list__contents > div.squadmaker-selector__list.active > div.squadmaker-selector__list__total > div:nth-child('+str(i)+') > ul > li:nth-child('+str(j)+')')\n",
    "        formation_total.append(formae)\n",
    "    print('column {0} complete'.format(i))\n",
    "    \n",
    "print(formation_total[2].text)\n",
    "print(formation_total[11].text)\n",
    "    \n",
    "formation_btn.click()"
   ]
  },
  {
   "cell_type": "code",
   "execution_count": 22,
   "id": "d5991399",
   "metadata": {},
   "outputs": [
    {
     "name": "stdout",
     "output_type": "stream",
     "text": [
      "계속 진행\n",
      "계속 진행\n",
      "계속 진행\n",
      "계속 진행\n"
     ]
    }
   ],
   "source": [
    "# 실행부분\n",
    "\n",
    "wrap_teamcolor = '#squadSearchform1 > div > div.search_form > div > div.search_input_detail > div.search_input_detail_teamcolor'\n",
    "club_teamcolor = ' div > ul > li:nth-child(2)'\n",
    "nation_teamcolor = 'div > ul > li:nth-child(3)'\n",
    "\n",
    "formation_btn.click()\n",
    "for formae in formation_total:\n",
    "    if formae.text in formation_top4:\n",
    "        #print('지정된 포메이션: ',formae.text)\n",
    "        time.sleep(2)\n",
    "        formae.click() # 화면 임의로 축소하면 버그 발생하므로 건드리지 말 것!\n",
    "        time.sleep(2)\n",
    "        num = 1\n",
    "        for team_color in team_color_top2: # 지정된 2개의 팀컬러 중에서 순차적으로 선택\n",
    "            driver.execute_script(\"window.scrollTo(0, 930)\")\n",
    "            time.sleep(2)\n",
    "            for j in range(11,0,-1):\n",
    "                position_name = driver.find_element(By.CSS_SELECTOR,'#formationPlayer'+str(j)+' > span > span.info > span.position').text\n",
    "                PlayersData_sorted=[]\n",
    "                for playersdata in PlayersData_list: # 선수 데이터 리스트\n",
    "                    if position_name=='LS' or position_name=='RS' or position_name=='ST' or position_name=='LF' or position_name=='RF' or position_name=='CF':\n",
    "                        if playersdata[0]=='ST' or playersdata[0]=='CF':\n",
    "                            PlayersData_sorted.append(playersdata)\n",
    "                    elif position_name=='LW' or position_name=='RW' or position_name=='LM' or position_name=='RM' or position_name=='LAM' or position_name=='RAM':\n",
    "                        if playersdata[0]=='LW' or playersdata[0]=='RW' or playersdata[0]=='LM' or playersdata[0]=='RM':\n",
    "                            PlayersData_sorted.append(playersdata)\n",
    "                    elif position_name=='CAM':\n",
    "                        if playersdata[0]=='CAM':\n",
    "                            PlayersData_sorted.append(playersdata)\n",
    "                    elif position_name == 'LCM' or position_name=='RCM' or position_name=='CM':\n",
    "                        if playersdata[0]=='CM' or playersdata[0]=='CAM':\n",
    "                            PlayersData_sorted.append(playersdata)\n",
    "                    elif position_name=='LDM' or position_name=='RDM' or position_name=='CDM':\n",
    "                        if playersdata[0]=='CDM' or playersdata[0]=='CM':\n",
    "                            PlayersData_sorted.append(playersdata)\n",
    "                    elif position_name=='LB' or position_name=='LWB':\n",
    "                        if playersdata[0]=='LB' or playersdata[0]=='LWB':\n",
    "                            PlayersData_sorted.append(playersdata)\n",
    "                    elif position_name=='RB' or position_name=='RWB':\n",
    "                        if playersdata[0]=='RB' or playersdata[0]=='RWB':\n",
    "                            PlayersData_sorted.append(playersdata)\n",
    "                    elif position_name=='LCB' or position_name=='RCB' or position_name=='CB':\n",
    "                        if playersdata[0]=='CB':\n",
    "                            PlayersData_sorted.append(playersdata)\n",
    "                    elif position_name=='GK':\n",
    "                        if playersdata[0]=='GK':\n",
    "                            PlayersData_sorted.append(playersdata)\n",
    "                    else:\n",
    "                        continue\n",
    "                squad = driver.find_element(By.CSS_SELECTOR,'#formationPlayer'+str(j)+'> span > span.animate') \n",
    "                squad.click() # 스쿼드 십자 모양 클릭\n",
    "                time.sleep(2)\n",
    "                search_teamcolor = driver.find_element(By.CSS_SELECTOR, wrap_teamcolor+'>div.wrap_teamcolor')\n",
    "                if team_color not in total_ClubColorList: # 클럽 팀 컬러에 없다면 국가 팀 컬러이다\n",
    "                    search_teamcolor.click()\n",
    "                    time.sleep(2)\n",
    "                    nation_searching = search_teamcolor.find_element(By.CSS_SELECTOR,nation_teamcolor)\n",
    "                    nation_searching.click()\n",
    "                    time.sleep(2)\n",
    "                    nation_colorlists = driver.find_elements(By.CSS_SELECTOR, wrap_teamcolor+'> div.wrap_teamcolorlist > div > ul > li')\n",
    "                    for nation in nation_colorlists:\n",
    "                        if nation.text==team_color:\n",
    "                            nation.click()\n",
    "                            time.sleep(2)\n",
    "                            choose_player() # 함수 실행\n",
    "\n",
    "                        else:\n",
    "                            continue\n",
    "                        break\n",
    "                else:\n",
    "                    search_teamcolor.click()\n",
    "                    time.sleep(2)\n",
    "                    club_searching = search_teamcolor.find_element(By.CSS_SELECTOR,club_teamcolor)\n",
    "                    club_searching.click()\n",
    "                    time.sleep(2)\n",
    "                    club_colorlists = driver.find_elements(By.CSS_SELECTOR, wrap_teamcolor+'> div.wrap_teamcolorlist > div > ul > li')\n",
    "                    for club in club_colorlists:\n",
    "                        if club.text==team_color:\n",
    "                            club.click()\n",
    "                            time.sleep(2)\n",
    "                            choose_player() # 함수 실행\n",
    "                        else:\n",
    "                            continue\n",
    "                        break\n",
    "                time.sleep(1)\n",
    "            driver.execute_script(\"window.scrollTo(0,0)\")\n",
    "            time.sleep(1)\n",
    "            current_formation = driver.find_element(By.CSS_SELECTOR,'#squadMaker > div > div.squadmaker__utils > div.squadmaker__utils__aside__selector.squadmaker-selector > a').text\n",
    "            save_squad_naming = driver.find_element(By.CSS_SELECTOR,'#squadSaveName').send_keys(team_color+current_formation)\n",
    "            save_squad_btn = driver.find_element(By.CSS_SELECTOR,'#middle > div > div > div.squad__wrap > div.squad__header-utils > div.squad-save-panel > div.squad-save-name-submit > button.squad-save-panel__btn-save').click()\n",
    "            time.sleep(3)\n",
    "            alert.accept()\n",
    "            time.sleep(3)\n",
    "            init_squad = driver.find_element(By.CSS_SELECTOR,'#middle > div > div > div.squad__wrap > div.squad__header-utils > div.squad-save-panel > div.squad-save-name-submit > button.squad-save-panel__btn-reset').click()\n",
    "            time.sleep(3)\n",
    "            alert.accept()\n",
    "            time.sleep(3)\n",
    "            driver.execute_script(\"window.scrollTo(0, 750)\") \n",
    "            time.sleep(2)\n",
    "            formation_btn.click()\n",
    "            time.sleep(2)\n",
    "            if len(team_color_top2)!=num:\n",
    "                formae.click() # 초기화를 누르면 포메이션도 같이 초기화되므로 다시 눌러줘야 한다.\n",
    "                print('계속 진행')\n",
    "                num+=1\n",
    "                time.sleep(1)\n",
    "            else:\n",
    "                break\n",
    "        #formation_btn.click()\n",
    "        #time.sleep(2)"
   ]
  },
  {
   "cell_type": "code",
   "execution_count": 23,
   "id": "cee29664",
   "metadata": {},
   "outputs": [],
   "source": [
    "driver.execute_script(\"window.scrollTo(0, 0)\")\n",
    "time.sleep(2)\n",
    "logout_btn = driver.find_element(By.CSS_SELECTOR,'body > div.gnbWrapper.gnbSizeL > div.gnbBar > div.gnbBarRight > div.gnbLogout > a').click()\n",
    "time.sleep(2)\n",
    "alert = driver.switch_to.alert\n",
    "\n",
    "alert.accept()\n",
    "time.sleep(1)\n",
    "driver.quit()\n",
    "\n",
    "# 계정 로그아웃 및 driver 종료로 프로젝트 마무리"
   ]
  },
  {
   "cell_type": "code",
   "execution_count": 65,
   "id": "aa825529",
   "metadata": {},
   "outputs": [],
   "source": []
  },
  {
   "cell_type": "code",
   "execution_count": null,
   "id": "a23cb4bb",
   "metadata": {},
   "outputs": [],
   "source": []
  },
  {
   "cell_type": "code",
   "execution_count": null,
   "id": "f3d6b320",
   "metadata": {},
   "outputs": [],
   "source": []
  },
  {
   "cell_type": "code",
   "execution_count": null,
   "id": "4c20ed36",
   "metadata": {},
   "outputs": [],
   "source": []
  },
  {
   "cell_type": "code",
   "execution_count": null,
   "id": "693d1fec",
   "metadata": {},
   "outputs": [],
   "source": []
  },
  {
   "cell_type": "code",
   "execution_count": null,
   "id": "ee2ef34a",
   "metadata": {},
   "outputs": [],
   "source": []
  },
  {
   "cell_type": "code",
   "execution_count": null,
   "id": "5d9a98f0",
   "metadata": {},
   "outputs": [],
   "source": []
  },
  {
   "cell_type": "code",
   "execution_count": null,
   "id": "1f14c526",
   "metadata": {},
   "outputs": [],
   "source": []
  },
  {
   "cell_type": "code",
   "execution_count": null,
   "id": "dbde9e8e",
   "metadata": {},
   "outputs": [],
   "source": []
  },
  {
   "cell_type": "code",
   "execution_count": null,
   "id": "db909780",
   "metadata": {},
   "outputs": [],
   "source": []
  },
  {
   "cell_type": "code",
   "execution_count": null,
   "id": "1bd1a239",
   "metadata": {},
   "outputs": [],
   "source": []
  },
  {
   "cell_type": "code",
   "execution_count": null,
   "id": "a9470990",
   "metadata": {},
   "outputs": [],
   "source": []
  },
  {
   "cell_type": "code",
   "execution_count": null,
   "id": "5196c5fa",
   "metadata": {},
   "outputs": [],
   "source": []
  },
  {
   "cell_type": "code",
   "execution_count": null,
   "id": "6fc0098b",
   "metadata": {},
   "outputs": [],
   "source": []
  },
  {
   "cell_type": "code",
   "execution_count": null,
   "id": "50e5ddcd",
   "metadata": {},
   "outputs": [],
   "source": []
  }
 ],
 "metadata": {
  "kernelspec": {
   "display_name": "Python 3 (ipykernel)",
   "language": "python",
   "name": "python3"
  },
  "language_info": {
   "codemirror_mode": {
    "name": "ipython",
    "version": 3
   },
   "file_extension": ".py",
   "mimetype": "text/x-python",
   "name": "python",
   "nbconvert_exporter": "python",
   "pygments_lexer": "ipython3",
   "version": "3.9.7"
  }
 },
 "nbformat": 4,
 "nbformat_minor": 5
}
